{
  "nbformat": 4,
  "nbformat_minor": 0,
  "metadata": {
    "colab": {
      "provenance": [],
      "authorship_tag": "ABX9TyPi2o2S86f9AWEx19sVDA1b",
      "include_colab_link": true
    },
    "kernelspec": {
      "name": "python3",
      "display_name": "Python 3"
    },
    "language_info": {
      "name": "python"
    }
  },
  "cells": [
    {
      "cell_type": "markdown",
      "metadata": {
        "id": "view-in-github",
        "colab_type": "text"
      },
      "source": [
        "<a href=\"https://colab.research.google.com/github/ShyamRajana05/Edunet_Cybersecurity_Internship/blob/main/Steganography_Encrypt.ipynb\" target=\"_parent\"><img src=\"https://colab.research.google.com/assets/colab-badge.svg\" alt=\"Open In Colab\"/></a>"
      ]
    },
    {
      "cell_type": "code",
      "execution_count": null,
      "metadata": {
        "id": "WAxl6p3J1ru9",
        "colab": {
          "base_uri": "https://localhost:8080/"
        },
        "outputId": "6990c6bc-d707-4b85-8b67-18b7e4b67116"
      },
      "outputs": [
        {
          "output_type": "stream",
          "name": "stdout",
          "text": [
            "Mounted at /content/drive\n"
          ]
        }
      ],
      "source": [
        "# Step 1: Mount Google Drive to Google Colab\n",
        "from google.colab import drive\n",
        "\n",
        "# Mount Google Drive\n",
        "drive.mount('/content/drive')\n"
      ]
    },
    {
      "cell_type": "code",
      "source": [
        "# Step 2: Install necessary libraries\n",
        "!pip install opencv-python-headless cryptography numpy\n"
      ],
      "metadata": {
        "colab": {
          "base_uri": "https://localhost:8080/"
        },
        "id": "7nym05C8yS1w",
        "outputId": "e8a6f059-8efc-47a5-ee74-a42a98fc58db"
      },
      "execution_count": null,
      "outputs": [
        {
          "output_type": "stream",
          "name": "stdout",
          "text": [
            "Requirement already satisfied: opencv-python-headless in /usr/local/lib/python3.11/dist-packages (4.11.0.86)\n",
            "Requirement already satisfied: cryptography in /usr/local/lib/python3.11/dist-packages (43.0.3)\n",
            "Requirement already satisfied: numpy in /usr/local/lib/python3.11/dist-packages (1.26.4)\n",
            "Requirement already satisfied: cffi>=1.12 in /usr/local/lib/python3.11/dist-packages (from cryptography) (1.17.1)\n",
            "Requirement already satisfied: pycparser in /usr/local/lib/python3.11/dist-packages (from cffi>=1.12->cryptography) (2.22)\n"
          ]
        }
      ]
    },
    {
      "cell_type": "code",
      "source": [
        "# Step 3: Import necessary libraries\n",
        "import cv2\n",
        "import numpy as np\n",
        "from cryptography.fernet import Fernet\n",
        "\n",
        "# Step 4: Helper functions for encryption and decryption\n",
        "def generate_key():\n",
        "    \"\"\"\n",
        "    Generates a key for encryption/decryption\n",
        "    \"\"\"\n",
        "    return Fernet.generate_key()\n",
        "\n",
        "def encrypt_message(message, key):\n",
        "    \"\"\"\n",
        "    Encrypts the message using AES encryption with the provided key.\n",
        "    \"\"\"\n",
        "    cipher_suite = Fernet(key)\n",
        "    return cipher_suite.encrypt(message.encode())\n",
        "\n",
        "def decrypt_message(encrypted_message, key):\n",
        "    \"\"\"\n",
        "    Decrypts the encrypted message using the provided key.\n",
        "    \"\"\"\n",
        "    cipher_suite = Fernet(key)\n",
        "    return cipher_suite.decrypt(encrypted_message).decode()\n"
      ],
      "metadata": {
        "id": "bK_U-t58yc8o"
      },
      "execution_count": null,
      "outputs": []
    },
    {
      "cell_type": "code",
      "source": [
        "# Step 5: Function to embed data into the image\n",
        "def embed_data(image, secret_data):\n",
        "    \"\"\"\n",
        "    Embeds encrypted data into an image using LSB (Least Significant Bit) technique.\n",
        "    \"\"\"\n",
        "    # Convert secret data to binary\n",
        "    binary_secret_data = ''.join([format(ord(i), \"08b\") for i in secret_data])\n",
        "\n",
        "    data_index = 0\n",
        "    binary_data_len = len(binary_secret_data)\n",
        "\n",
        "    # Get image dimensions\n",
        "    h, w, _ = image.shape\n",
        "\n",
        "    # Iterate over image pixels to hide data in the least significant bits\n",
        "    for i in range(h):\n",
        "        for j in range(w):\n",
        "            if data_index < binary_data_len:\n",
        "                # Modify the last bit of each RGB channel\n",
        "                pixel = list(image[i, j])\n",
        "                for k in range(3):  # Loop through the RGB channels\n",
        "                    if data_index < binary_data_len:\n",
        "                        pixel[k] = int(bin(pixel[k])[2:-1] + binary_secret_data[data_index], 2)\n",
        "                        data_index += 1\n",
        "                image[i, j] = tuple(pixel)\n",
        "            else:\n",
        "                break\n",
        "\n",
        "    return image\n"
      ],
      "metadata": {
        "id": "jVBmmyU906Fk"
      },
      "execution_count": null,
      "outputs": []
    },
    {
      "cell_type": "code",
      "source": [
        "# Step 6: Function to extract data from the image\n",
        "def extract_data(image, data_length):\n",
        "    \"\"\"\n",
        "    Extracts hidden data from the image using LSB technique.\n",
        "    \"\"\"\n",
        "    binary_data = \"\"\n",
        "    h, w, _ = image.shape\n",
        "\n",
        "    for i in range(h):\n",
        "        for j in range(w):\n",
        "            pixel = image[i, j]\n",
        "            for k in range(3):  # Loop through the RGB channels\n",
        "                binary_data += bin(pixel[k])[-1]\n",
        "                if len(binary_data) >= data_length * 8:  # Stop when we've extracted enough bits\n",
        "                    break\n",
        "\n",
        "    # Convert binary data to characters\n",
        "    extracted_data = ''.join([chr(int(binary_data[i:i+8], 2)) for i in range(0, len(binary_data), 8)])\n",
        "    return extracted_data\n"
      ],
      "metadata": {
        "id": "QR_ujdKs0-wM"
      },
      "execution_count": null,
      "outputs": []
    },
    {
      "cell_type": "code",
      "source": [
        "# Step 7: Main execution\n",
        "if __name__ == \"__main__\":\n",
        "    # Load the image from Google Drive\n",
        "    image_path = \"/content/drive/MyDrive/ron.jpg\"\n",
        "    image = cv2.imread(image_path)\n",
        "\n",
        "    # Secret message to hide\n",
        "    secret_message = \"Confidential Data\"\n",
        "\n",
        "    # Generate encryption key\n",
        "    key = generate_key()\n",
        "    print(f\"Encryption Key: {key}\")\n",
        "\n",
        "    # Encrypt the message\n",
        "    encrypted_message = encrypt_message(secret_message, key)\n",
        "    print(f\"Encrypted Message: {encrypted_message}\")\n",
        "\n",
        "    # Embed the encrypted message into the image\n",
        "    stego_image = embed_data(image, encrypted_message.decode('utf-8'))\n",
        "\n",
        "    # Save the stego image to Google Drive\n",
        "    stego_image_path = \"/content/drive/My Drive/stego_image.png\"\n",
        "    cv2.imwrite(stego_image_path, stego_image)\n",
        "    print(f\"Stego image saved at {stego_image_path}\")\n",
        "\n",
        "    # To extract data:\n",
        "    # Extract the hidden data (encrypted)\n",
        "    extracted_encrypted_data = extract_data(stego_image, len(encrypted_message))\n",
        "    print(f\"Extracted Encrypted Data: {extracted_encrypted_data}\")\n",
        "\n",
        "    # Decrypt the extracted data\n",
        "    decrypted_message = decrypt_message(extracted_encrypted_data.encode('utf-8'), key)\n",
        "    print(f\"Decrypted Message: {decrypted_message}\")\n"
      ],
      "metadata": {
        "colab": {
          "base_uri": "https://localhost:8080/"
        },
        "id": "rPRf9Aiz1AaC",
        "outputId": "6b326687-f0fe-4009-af0d-4dd2a250fdf6"
      },
      "execution_count": null,
      "outputs": [
        {
          "output_type": "stream",
          "name": "stdout",
          "text": [
            "Encryption Key: b'X3hSKjX3IH-bnIuFCygl8Bi_a-iq715oMdCvF7e42jo='\n",
            "Encrypted Message: b'gAAAAABnvKoixwxKMkEGcY9-hJZD8c31i8-1kxoK6tOEFWsCXW2ZyAFjKybp8-M23GKU-b8-nCSMtSr6Lf_lmmlydezJoYoIQl0KitaGTHK_Ch0JvT8uCno='\n",
            "Stego image saved at /content/drive/My Drive/stego_image.png\n",
            "Extracted Encrypted Data: gAAAAABnvKoixwxKMkEGcY9-hJZD8c31i8-1kxoK6tOEFWsCXW2ZyAFjKybp8-M23GKU-b8-nCSMtSr6Lf_lmmlydezJoYoIQl0KitaGTHK_Ch0JvT8uCno=÷ú\u000575®}\\#ÜPåok\u0005á?PòPÌ\u0005\u0012w­(ÿæ,*)s\u0013òá«\u001b\u000e Í¶UgIk\u0018ì\u001f³ì:·\"Ci·ÙAÿ\u001awcÀní¹zÇ=°mhðSFLªÏàÄð¼¸æÊ³¥\u001bõÒ4m¶\u0019ÛèÁ0\u0005k²\u000f§[y¼0\u0010úû­H\u0016@8Ó÷¹>\u0017n7¡\u0018\u001aW«fÎøâ/r9R\\³ûÙþ  ²9Ç7cäP´\u001dó7åÐ®®\u001a£\u0002ãDTÐ\u0016YËý %Q?}b[&Â\u001f>gN¹­·\\ÎÅy?M2Óx@}Å#HÐ?³êÄ[Ä{\t¾\u00188çîIÖ£×ðE!D¯³=¡Ö¬Ê°\u001d0»Õ:¤ÖêNR\"ßÅ\u001fw*sSêæÐ[\u001c{=²|Þwt\b½S»l)fûð2Z²u\u0007ü[\u0011Óò1Ò1ÃûÌv\n",
            "\u0002)FÐ)ü #\u00070'\\\u001evKÿgvÌJ\u001b»¾lN§\u0000¿04¨Ù\u0012SÇ¨`ð£ØÄB\\>i!fEPôïòö2áÅ\u0011¶]yÉ4A1êäî\n",
            "©W`ãD8\\\u0015ÃÆ8Ì9 G\u000e{,u\u0004\u001fTÇ<g°,ÍáCáeÁ¨péª\u0005°ÅT}Ao:^\u001aµ«Â(²SÊEx\u0013êHMæ¿\u00198]\u001aqÓÒ\t÷g¶®Q¼·$>¶÷S\u0005_ïhP<Æ´e\u0011\u000fó&ð\u0003õ×V$aôîÖéT\u0002Õ\u0011¤ªî\u0007zª\\´Ì¿!ê\fÙ\u001eyCÐRX\u001aIÓYKX3`\f\u0001âÂQ\u0002lØoá3Ó÷öÒçÝ­¢vñ\u000fOúÀÿFãç½{ÌÝç\u0000Q\tÂ\n",
            "ÙÃíL°\u0006ÝS¿Qv [!ÖØû¬A/D\u0014qxJ§\u0004¿å\u0005\u0013æªF(|´Î¨8abRH¢Ê¶`¥\u0012\u0002ÐÏ'ëÀìËÎô42er·D\u0000düSæªÚ\u0000ó¼Ï\"'Ã%}D¬kµ{M\u0014J\u0004\"~®ø\u001dËn®¸à÷²¢²ë\bÃ\u0017jØiZÞÚ5Þ? »fx³DS\u000b\\;Ý*\u0019ýqà±F].>©T:¾TY\u001bo³¸O\u0010\u0015\"ë³Ïrþêry,6*Lö\u0000_;Zß<Ûe%\\ù'¼Ée²\u0012|¥ \u001b3\u0019=\u001ba\"¥/×Q*\u001b\u001f\u0014fâ4êÃ_'ÍP@»¯h±ÙS:Ape.}\u001cÆ\u0000VK±`\u001f\f\u0005u'¶2pîe30º\u0012RLG«gf\b\u001d×E>c½;ÁY\t¾ÐVþÖLª\u0010y1\u0012K¹\u0018¾·\u0007#\u0000î\u001aA\u001eÜÉïÿ ¦b@\u0012YÁR\n",
            "ÎÙªðèÇ\n",
            "\u0016r3\"ÄF<¬ì¼\u0014¨øÈÀòi8ö`^\u0000$®¨Ï\"ö\u0014à {×ÛëFÿÓ*¶´\u001brqaöºKw8í;ì-\u000e©\t\u001bºÁg¶ 7ÎôÉXleO\n",
            ";\u0004QgÈ{\u0004ø5s]\u001dúsM:V·¿M61ù7\u001aòÕ]Cú{G³ÝM¸9Ï\u0010[°ýû\f(nwV°èÌni÷­õP?ß¸yö¤3æeZãuÃÖÅ1\u0007Ð´ö\u000bö\f¨|\u0017 õùõßã`|\u0010¦qf÷;ÕbË\u0018W`\u0007_MUö£\u0004Flw1 \u0004)e\u0000òc×F{K@eÚì_»H\u0004ÓJ(±÷/çn¨,ÓK¤Â\u0007Í\n",
            "ó«òÔÉ\u0000i ¿#Óå0\u000b²±q-& Ì¡\u0016\u0003px:Ê_ÿsy.^ð|Éø\"\u0001<\u0016qÅ0Å5ucU°Æýa*¶¥$Æe¸\u0003q\n",
            "NH¯î-ªí=Lº\u0005éd«¾\u0019\u001cÔ fyo-»¿6½»1N3dA\u001c&0xâ¾\u001a7½~p&½x\u000fx¬û&\u0015ð7[L·ø£;\n",
            "£Fÿc¨\u0003/¡X§¿¹·\u001b¹§~>\u001f<ÛÉ)A+%`\u0017r\\K1_þg\u0005Ù.¶UA\u001d\n",
            "T:ê£À\u001e£Õ±Ðà@Wg¦7[æPêøPøþ|¡*:Ðkx²§\u0014L°@\n",
            ",kó¼Æx]$}2? )J¢\u001eqQè\n",
            ";ç5¤Ó`ìü?Ã×ÌÎjú\u0011Êr¨,è,xîh9ß¤Ý6\u0000\u0010B÷\u000fé0õ\u001f¤hÑç=\u0019\u0015t\u0018\u0002\u0011Óõ¢\u0002Ê)\"\u0004y\u0005kI\u0003O¬\u0000? \u0018\u001f\u0003\búwÿôjÙãb\u0006R]Þ\u0007Ù;õòé*¸Í¥=\n",
            "§=ÈV?Ã\u0011F\u001aBÃÂãDÐÃF\u0015ÊÉ³'\\{G Ë\u000fÃUMUt°O[·»0ÄØ`\tZü\bÚ\t*M§»bÊvv`É`G\u000e\u001dG$iÇ§ËæèQÄ_\u001cb\u0001Ï\u0016L !yÕnGx3 A®Æ¡ïcãõÝxmsaÆ²®ÉÐ\t\tâ«¤sp\u0002­ß*\u0003c¹på¼*\u000e#³Bû¯¥\u000b5¹\bÚAw£/\bcsê¥H7t8r7p³\u0002ëÂã¬\u0016}bÓ j\t­ÛPnõ<\u001a\u0001\u0012¢Ûó;\u0004 \u0003ô\u0019\u0014¦¶w¿4÷É-`#ôT\u0019köÎ\"¡õS%­XZVÎüEZ¶¸ÞK9R\u0006¾4\u000f\u000fçóXod\u001fp0Ó@rå[Â]¢\"õk\"0c9ÐØ ¥¤\u0000é> ßÇtÂ¢S5<]­fÓ\u0015\u0015\n",
            "ºN~\u0013 'Í¿½5+Ø¸Jê®Jâ°Y\u0015³ù:£ÝÌ´páàä×ûò´` \u0019Ì+¾9*|¶\u0017¶(Zòü4t¸Ø£\u0019Ê,\u0017­M÷Ä)ºZI¾óòÊ¯Ù6éVÀ­û2ÜÅ\u0017ËeN)ÈÕh­8Ôo\u0000:&o~fØ$\u0011;ÍÄãÍp×gxYG\u000fÞñ?»o\u000e\u0001º âIè^Uë`­Á\u0017~\u001eÊë\\\u0012cdÈëçúöy£ôaY;l\"ä0ÜcR¶Å&]¿GBpnº\u0002.4â\u0017ê\u001b§\u0016æúµÝ§§4°QÌú(¢W\u00162íîÈéfk±Å¸£Ò¦!ZÄ³,ó#¯Y`âÕTQGMow­\u0006O5Ü[M\u001c\u0016Syàô¦\u0004tClÀQ¬6êÆ±\u00173\u0002\u001eHàak¿á¶¶ÂÌ9<oi2¥õ>)\f\u001fIcªû5ý¾&ÅXve/Jÿwºâ]>\u0002÷ó;)Öð¦¥î\b-´SóÝ¬¼\u0011Í8<¨2¦êo\u001c\u001fwú+\u0001³Ydõ:Áþ½ËóB\u0011eúî·\u0017ÐS;êí\u0014áu\u0006¹Á|äª_\u0007C\txºsÖpü=ÞJùlKD\u0016\u001e¦rCrë9\u0017bÁ7ý\u001e£×»\u0018\bë;ÛT\n",
            "·&CkGó¹-­zi«wç\b®+Â¤£·¬ç¸,\",x@´\u0000u0ê\u0006}\u0010:1dâ&Ë¶­\tæú\u001b­2S\u001e\u0010ëÚ\u0001+ýµ\u0006`ÂøHÖ¹\u0019æ}à*éíx\u0018Í4c°~èiFÂ-yj\u001b\u000e¹èõÐN¯j·\u0003+\"Ö<¢b2þþú\u0001$QæñË\u0011ª\u0018©\u001f5eÇ\u0004 ó¼ì\b4MËe\u001dTWÚþ'nN+ÂS:?\u0002¯\u001eãâø@±mC\u001aL ´f©¿Ùä9;\u00024¹àx\u001aÖéCÄ`]­kËsöh\u0017Ú\u001f'Gt7\u001ekù\u001fý\u0017è5\u0019|?\u0010«Ã\u001e?».I¿qQÖzÂ2©¨&(\u0013\u0013ëEÐP;O\n",
            "I¥\f!H\u00050Ì³í¤\fui¦ s\u000bùâhbúaÄvú:NÖgcý¶Â`ÍæÄ¶Ê¥÷ó1þBqJaV!=^'¸Ï\u001b~1)¢ã\"\u0010\u0013\\büõ4DÀØ<íÞ³×}ñÃY:.UNÝ(2hZ:gjÇ^ÅçµH\b\u001cyÑÊ\u0003ê©³üä\u0016tcìß²QÑ.\n",
            "õRðìê dn1\b\b¨$YÔ6µ<ZÛ\u000eÜ}Å¥ëân_eìò^ØsKS4ÑÁÆt&èr±{\u0016­ñ|ótãpðÒ±$Ëç)Ã½öf¼ÜÎQsP^P²¹T:}sâW\n",
            "9¯Æ6:Y\u00020©[\u000fó\u0019v{mv>U­\u0003Bú°JuC<úBX×G>LqG»±;IÇÑÇÁdéÓ-Ú:¡§\u00004§ ^¡x\u000b\u001cqgãlfGàR\u0011ß8î\u0001ýÏløm^0¡blMLhêÔ\u0019i}Ã5ògô#ÕEÒ¨/P°Ë\u0010½\u0013+Á\u0018@Û«à¿ßuDDy¾± \u001efÛT=fò6\u0003´\u0011WP\u0014à|\"\u0007ßß`o\u0014Gd\"¦§RëI»tÞi[\u001bÐU¡êó{ëvë6ÒÜz´ÐÏOUÄCT#kÔ-\u0010Í\bi\u0018j?|l¸M\u0002\u0015ÔË¥\u0001-jÈjüéØl/)Al¯|\u0004ðWÆ¿\u0004Îh§öX ¶w¢¾(r4Uìë×Ò8\";§¦ÂO/«:_,bH±<\u000e\"\u0013þZvÔör+\fà@XãA\u0016lß\n",
            "ñRNÄÛÓ\n",
            "\u0005ãÄY9z®\u001auN«c]u\u0000(àôLY_ÿ_(\u0002Ý\n",
            ",\u001f7|jHCCB1ÑÁ«tÚ\u001b\tZ(óüîxpDÐqâW\u001c¦U\u0003?Uâ$§éôëÇvÏ*;¿/ÌF/âØf5lÅh¾¤¦û4Ó=í\f\n",
            "\u0011-ùP\n",
            "0PÏ~s\fá~×@e\u0005ó\n",
            "M»\u0019>{aÚß\u0002Å\u0013Öq\u0011KÏ~^7z`fîÍêGp1@8ña V¡\u000f1ó\u0013:-`\u001fFû/á|\u0006>\tß½:\u001c}eAâºþülN[öo!!ðFl@ß\u0002jv=ãÑg.c|M¬\u0014è;>oKÃ)mð\u0017Ô\u0014\u000fS?S\u0017ôP0Çë2³gÖ8½4\u001cRK+ÉÿW\n",
            "0¶àõ\u0017(Ýâ)×a\u0007©\u0013çÞy'wA(Ç\f¡íì¸\n",
            "òý_QêÓ7ì¸Gr\u0011ÏÃ¥\u000baªÃìÁÄ­¸&f%óÑO>^-EVýÏüð\u0011\u000fXõzÛ8¥oì¡/v<\u0007Eà5M»Ä!1wù¤ð)®\u0002µvë­ÖgHÝ\u0019ôÜò 2\b\n",
            "Y\u0011>9Ö((H\"½\u0018\u0004]®\u0013FÅ\u0011Ï:ñø8 %ît4¾h\u0002\u0014]\u0017RõOpþOºôÆÜÆÏÁX(\u0011~Oª\u0012\u0003lÁÅ]-l:\u001e3\u0019£pÆ÷XÃÐËm²5\u0011´ ÙSÿ%sÇ%m°º5\u000eÎç,N-®\u001eëY©ç¦Iÿ\u001c\u0006$4±z£³P\u000e¼ð\u001b\u0007IC*(ÅíÈ3¦\u001cM¨Z\t³({\u0014\f·×ó\u0007 oy\b¸e*[Yö{3º{ ,©8ÆÝÓÏg/Ef-§ý\\°$ÉÍ·×p\u0004MWÜG\u000b\u001a_\u0018\u0019ÿÁþ\u0007:l-Äó\u0001]ð±<\u001cZ\tÕöîÞÅ»F9'R\fÖ\"\u0012/Þ±g}é¤CôÛÓ7üâ\u0018\u001ez1$o\u001b##¯5ËÌ>¤KâV\u000f}¸\u001c\u0004|É&A´{Äþ-à\u0004\f~°ÑQ\u0015G\fWíMï@\u0001î^`§§ÇëG¸FIÍ&\u0012ÛÑê¿zW\n",
            "8µý«ðntrÏ5î%8\t\tÀ¦4FÂæÊ\u0013ØO¾¯µ.|HKQ©¥\u0011«\u001eÓñm¾Öf\u001dÓk¤m\u0014÷Ö43\u0000\u0019!³ÜåkZpO»ªì+\u0019\u0012!4<!Îl\u0005ºãþ\u0013_Bq(\u000bÿÔJ°T\u001c©6½Ö\u001eë2Éî©8&~Bb®Ò37¯^bðxÞ¡Wåm&IÚN};îx¸©´¢\u0017\u001eÞ\u0001\u000eæÚØNA.C\u001cC¥´æl\"µ/\tÒÿÒ\u0000\u0002JûMõi\u0014Â°ø*Ó Ôªõì±}\u000eS(ëWÏ2@i²ÑÌ¦\u0001Ú.n°Fx£üëä_hÅêoglÄ½ýû²\u0000«\\^ _Isºenõs#¡ø+/ÀîíSnÒ9£Í«¬Õ*\n",
            "ûÎpMHÀüÙ(Å\\Ñ\u0014ßÕm)l\u0015 Ø\t&ÙuZ°N¦tO9;z÷%%M÷@¢ C³§3¿Lv·±ÔÐÚ}ß¢ú?\u000f5q\u0011ª¤µ\u001duöR\u0015 ]qË\n",
            "Ãw\u0017Q¬:Ø¬gkV \n",
            "+ênÆk`ôÆ!\u0001 ¿pY\bãÈY1ÿWA\u0010¨¼E¬W0<Áù«1L9lÃb\u000fÝë_óÿú\u001bG«L5\u0019+¦··J4x÷D\u0004P\u0014J\u000el;2ÏÇ¨JQH\u001f£û$Ü'\u001e\u0014ê\u0017ð\"wî£dYcm©¶'í´ \u0019Â¾)WmÆ¨Åûô³vÈSºv\u0006BrKr¸\u0001×Ùänt\u0010õù'ÀÓpaDA]]Ph0Þýá\u0012(×9Å¸ÈW%5ê+!_³Ì\u0012\n",
            "ru¸g|Ð2Rà>_¢\tÜ\u001bÄÎD¡¯ì¸k^\u0016\t«ããs²¤d»\u0007\u001c\u0017S&ÆvG\u0017â]\u0018!¤¢ö\u001f\u0012\t'P7¤ÁhïhÏÂ5àñK\u001fÒ¨§\"­\n",
            "2ûÐµînñ½^#o)0tÁì´ß¥Ö:x¹Ñ$ã³;o®ü>°\u0002©hf{âÚ=Ów·)9ªM:@¢Qxv¾Ý¦Ö\u0006UUÔ\u0006¤üi/\u0001ÞÍ\u0001\u0005»K/$×DÎ^vÛÓq²\u0010Ã\u001dNæ¨¹ar#%¶Ht$^v´¯à\u001e©Ì»FÚÜº¸h\\IA\n",
            "ñ.oô0\u001bQãÜ\u0014³Ü7àÄ{Â\u0003u_|3\u0006ñáK!üÇØS\u0016<\u0004\u0018\n",
            "4N\u0010P/¥I÷ú¤d\u0015¶}ëXè­ëÁN`ék]ûZò'¬ìÁ¨l\u0005ªý\u0013\u001fÌé\u0005»{\u0019¼@ÞÄ¢Fþ³Ó\u0010Oeø|í4¯\u000e&<L÷pêo\b[M«½ä\u0017\u0018k+õ¼èj\\ô\u0007@øfÍÙÛ8©4J*ÍÇyG <`g\u001eè«\u0017ýê¿a8Ò;õ÷jmµÆËwÿC®q¦v\u0011\u001a©ná[M-³\u0010ª\u000bó\n",
            "@F\\vWùc­^<CÃðM\u0000Ìqb=ð¼3Û±8|ÀæüÅ\u001ew#XY,¢??âvr8Ö ñ±É&\u000b¬\u0003²\u0012ìèmÛv,Î¨m\u000514î¨Mýt;\u0007ËôtT¹÷+üµÖ Õncíxõ*öA-òTti\u000fÏ»ËpÃ,â,cB`°:wkGåÒ\u001e\"^¬øÚ/Û\u0017î\u0004ÄÿÛvÓåÈEãp¤8#\u000b×¹D¸MåNQ©`=ÃÞ\u0006,äÛmmÐ¬µåÞ\u0006Flþ+eQ=â}¶¼ú¾I\u0001TÀ¡â à´H6#ÃÜ{7T\u0017$½9eW¥VlÌ\u0011~\u0005G!Ø X×U^UO¢D£­cÐù\u00059êXõ¦>\u001b »çó¿_7ëÏè2-Ùv¯1¡·H*18\u0007XüT|Ô·W)ÕO³ÌM£\u00115Çç\u001bQ»ÂûÞ\u001aÆmEUéÙ\b@h2M%Ì­\u0016¥þ\u0000Ü£\u0004o\u0002èUÛ\n",
            ".º<Ó({*´\u001f¿îdâ#÷º¦H\u0016SgO\u0011}*$a¦òBX\u0017ÝgÙ;Õ3/\u0013bÓ\u0001m@Ã²YÀø)° Ý*Z«ý×%óôZ×;V¬Ä.Ô¤ñ\n",
            "z%½ÉÁÁé¯\u0002ó)Ûì'ÑÚüÞI£@jë;ä¢ÊwvLÖ\u0014dÎôÏQnú\u0004ú2\u001e\u0014¯Æ£\u0007,Ît\u001d\\òµ\u00068|+løÔÅ¥\u0002æ¤TË\u000bf-u\u001dß´ãQÇõ®×1r£5M\u001fl0\\\u000fIwÔbKtwã;éä´¹\u0013E®\fû´ÚUN\" \u0003ýIxÿa?¦k9Ç)b=9¸\u0005ùoÉº¥|ãA\u0014s*¨ô@×IÔ¸þTE6nZ0ò¶8Å}Os{å\u0005\u001cÙeÂ¨µ°ó·«PìWþ£ÞM\u0012OP~eÎ&ì¢²)¤\u0019\u001føØ)1¥Ë\u0018Ê*`mÖ\t*È\u001eë\u001f\"ï=]õËâ«gpá]ª0O\tÐ½¤PÏ\u0017'yÑzî~»Þ!äºhë¹¶\u001f-\u000e+\\ò=!ùíÞ\n",
            "J\n",
            "sM\u000b\u001aQFÇ\f¬IÝNE¡naYþ\u0001úL]Pôpse{\u0011 ]\u0000I\u0011Ð=ðÿx¥ØUÓ[\"Ü,µ\f;\u00109É7ïY)'\u0002Às×ÉÐú:®Kþ\f¯Ê2\u001dÖn\u0017ÿr[üP¾lá´ÌcÖþ61íbb÷¼7¶\n",
            "S\u0011\u000b5\u0007\\~pq3ß `ä\t¦\u0001Vv]dÓÀ$J(\u000b/ÛØÒN\",¬Þþë^¾t\"pÛèÈ6ÂºÙ>¬É\u001f4á\u000f6AþÍ÷Ë\u0002`\u001d;\u000e·üo\u0011Â\">O\u000f2ê\u0010íQi´\u0010N=\u0015°k^ö|\u0007\u001c:yo^Äz\n",
            "à\u0013«±\u0003brDT:Þ\t>çd¸±\u000fk¢ð ´I\u0013  ¡xÔ&_Æ\u000fPöjk\u0012a¿ì\u000bÉÔ³-ßöÁrì¯w·FW\u000e¾øö\u0000ò.¤ \u0015Âï{&v\u0016ªÆ\u001dôâq7V®jÒ§.SJÜ\u000fO\u001fíH,aÍ)Ýj=\u0007é\n",
            "ÛÞÝ\u0016-\u0016OÖ¨al¨j\n",
            "l¸\u0005ðwcÃ~oCý½;õÀOlÜ\u0007\u0016|P\u0005\u000eå\u0018áuhø(³î$iw;ë7\n",
            "ÀvV¤aÞ3¿OL\u001cÆó\u0012àFÉzÌd½£áü8<ì\u0002QüiVaúË\u0015=s®ýAÎ\u0006ÆÇkR¬üÞùØÜñ¿ºàÈèÐ\u0013§÷I·Ú&£¼T.æÉj;zy`\u0005\b­yFÌ)Y.ÔlEM!\n",
            "I´´¿à\u0004F`K±\u0018Ç\u000faFJ«J¨\u00148jm}PçÐ\u001b®ÀhX]R³T9\u001fUPA\u0006#ÅJ\n",
            "Õf\u0002ô\u0005K\u0003Jÿó,dr\tCNÇÝD6£81þb:½ Ã|[ð­:H\u0011KZ¥Ú`·0g¼ï|Ôú3\u001f$³\u001fÁBUT7p]\u0007\u0011¦©\u0010!Cê»¦C±b@F\u0011\u0011°»\n",
            "=l2Öl[ê\u0006;}\u001c³\\\u000b\b¡Ã6´G`%¾R\u0003\u0015ÍzÚ!\u000bqÊèÆ\u0006Mvô?ì¿øwíx|\b&cÕ¾\u001dÒA\u001b\u0013Ý9Õ]\u001f\u001cÄ´Î×\u001aË\u0018r\u0016Ùâ\\g(\u001b\n",
            "\u0011\u000bÅxeô: öþÉÿÓó?G1(×ØÐªÃ\n",
            "5\u001aû+_\u0010YF+¢\u001bÙ}K¤Ùã,P(l{ì]¼àuN.óe¯5~ò1)]Ð¨ò¼!\u0014Úÿª÷ðzÓ\u0012Úù)A¶Ûw¢Æß;-Lj\u001dÎ2ü\u0003D·î9ÂÁqH]\u0013¼\u0006i¹V]´æ.Í\u001fV¬]7;\få°\u0011\u001b\u0011É¡E \u0006\tÒ­S/ö¯ë\u0015\u001f¶§Þ\u0007\u0007ýOëø¥±\u0000tJäØ¾2ÿRÊ'v\u001cÃs®½®®#S«\u000eÙ=)O~4^c5VÖà!\n",
            "\\\u0006'|Dëëª\"2nþ^\u0003\u000bkÅ?dµ­K\u00156¦9\"ÑyE~ë\u0006WÐ)ó e÷~º6\u000eÈc\u00199½!\u001c\u0003.YöB¼·Õæè~HV¯}\n",
            "©\f\\\u0002»ÔÕbÖH#pªx­£~WÞÆ|Ý¶ÀF°ikÁª\u0006èáÁÒøz]Éï\u0001°\fJ£°eÁ\u0017Ç;òrkAÒÍáisjÍæï\u0011¹Êã\u0005ñ|mÓH¤§ÀÂsY0ùrÉ. ¼÷òÓ HnÛW\u0001X·)gSlXÿ;>ØÍÕEø®×µ2Eýà¾2\u0004¥n-Ça\u0015yr³Ò\u0005æ.\u0013\u0014,\u0011··\n",
            "pRZKtÄÅßb×Ü°øëä\u0002\u0003ÐQ·ïúÝöJz·å\u000bÓ\u0001Ñ¸\u001a¤³òHOíùÓwh%>Ñ{Xi\u0007¶âúQ2\u0000*zë0\u0000]óy¿/}*á\u001c\"ß\t\u0013Û¨°ìØÌ,A~\u0004ÁÏ²ºè@èjoJ½´ä®¹äôb)!Ù4\n",
            "#ÿz¯Óácè|½1@bü¯\u0011ö²Äh\u0002h&B¸k¼æôæ\u0016ìâYÇþï÷³\"÷zW³Ø(\u001b\u000fB&²ê6­5D\fØ\n",
            "Ê è8åYèaLmDÄ_kèó[\u0015ºÎ6\u0018\u0011å\u0016ÇÃ{mãs\u0016»öÊG]=C\u0000«\u000bÒ\u000f·E\u001e@\u0019Þ\u0001í~·tÌ¸²K\n",
            "fãf:_SÝÚn\n",
            "ÊjÍce05+XÆÞ\u0000\u0012zï¨Ç\u0000nãa VA\u0006é\u001eWøÏ\u0019ÁM¢~ÅÈ-&ÿQÙ³~u,\u0010\u0004Èùãå°_/Ü\u001bAÌ ®i\u0002\u000eÁííÚJQ\u0005\u001c4nÞ0õt\u000bvÉÊ\u001fESÓ0÷ Âè¥8\u001bOlëð*Ib%±\u00127\u0015ÑÐÛ$áº\u000eÖÄT8bçÊ\\É/ÀcIOÕ±r&Íß`º\b_7uãüýxð{¬«C¨\fku¢û\u0002?°Q`\u001a ìë\u0002É6PLvåõêý~øaèÂ`CqóíÈá÷¿*\u001dWÐ;4Ø\u001eE?u²\u0002ÉõßÁº¦Þ\u000eu\u0004¢!p\u0018o5Váksb&³\u0015vÕ%ûÿ×àQ\u001a\n",
            "QK\f\u0018XDÂ+mÝ«&©«x\u001fÈ¦*Éß\u0005©\u0017\u001e_´\u001dñè\u001fg!¸¤;\u001b'R¸¼\u00048\u0005\u0005Ôú\u000bIJ<¾¹uw\u0007\u001f4pO¼ç¤MßfÂcÔ~íxß;NÆ\n",
            "cOCÔ\u0013lbÒ\n",
            "\u0013A\"VIÈZ¾¶ÐÏ\u001aÃÊZ°¦æ\u0006Ï\u0018g[Ð#ôe\u0019Üqrbéí(ßín|²_~ÉyhnÁü¢\u000fÆx`dRÌ~.é\u0018´<FÃé\u000f\u0015<\u001e½ÓÐ§çS&\u0012D_Ð\u0012y\u000b¡ûlX\n",
            "§éÿ?iè¾Î¼ý0y\\nQWÏ»\u0002(Áßã\u0001[¨ÝÈ(ÒU£Á\u0017a4ôõç8¿Nòs8eoÄu´õÕ¦lûè¡Ä¬\u0007\u000fÎô=K|­\n",
            "ÿ±É.ãúmr\n",
            "[\f»fD}¯\u0003\tß\u0010<eJ1à(EØ4\u0010qqÈÆ¢\u0017`P°\b\u0014G?fØôÐHB\u0004ó\u00067ß\u0012%(EÞ±\u0015c\u0000Ê2Òiï·Ç\n",
            "\u000føC|ÿü-\u0004ã À}ÓsøÀ24ÊD.f¼X ìÐ\u0000ñ#\u0017»Da$,¶¼9K\u0014Êyú Tq\u0001¯yiò¢Ó_\u001a$\u0002L\u0014]ª:P2i\u0019\u0013Ç \u0005_¶¤2TüøÞ¦~Ò®D2b&\"2§¾\u000e?{>\u0003ò6TDµX¢ÊàCfµ¦-iq#FâÅU/\u0002¥ZJ´AÊt6>`\u0003e\u0018Éx\u001a­dÃ¶ÆÒæRþàR\u0004\\x]\n",
            "Ú\u0015×U¡¾êª\u0011[\b\\÷³F[ä\u0005eýâ.¹4»?{±¥ÓU{z\u0012'sõ\u0018ùg}g^ù2\tK\u0017ÑúµkèÀkbæ\u0014iöx2»LêÒH\u0017¾ÈÄö¶\u000fÃY\u0018&¯¶×µ¯íKì\u0018\u001f¿\u0014¹öøsÛd¢ÃX$*]O\u0017\"ìTa?}3\u0004+Bä#qÚ[ ¿Ð\n",
            "ÂÀ\u001c3qf ­ÿÄXMª\u000f\u0006&J%evàPm42.¾\u0005dT!Ë9«GÜÜ:áå;Añ\u000bÃ·¡TÏ\u0018äP#ã!å'S,ÖJÐ@\t\u000b#Þlu.Ãèú¡AXlÎ|»\u0000#!pM^\u0013\u0010\\\u001f\b;qÌusxÕòÆp\u0006Y©m\u001cJ¨Ûíø\n",
            "\u0007ò863cú­ÌÐ[#rð\u0012]\u0014Zâ«vòó\b¥ÓoÑQÝ\bÎÐ1ðú¼×§~c¶`è±|¼\u0004X,åÞqaÙ¼ß\u0012¸b+\u0002IË¼iCïv\u0004H\u0013\u000ev\u0012Ò\\\u001dÓD¥e\u000e&~\u0001KôYÌkß\u000b<åÙYûSumÌ2f$Ï° öÇ9\u0012Û¶¬nìCJ\u001d'yËëM;É\u0006Jc4XE½Q¡SªÊµÎ\u0014ÔÓøZ|Çe¬ÍáýÎt`þ¤ÿÕco\u0019\u001f¹6'Ëÿ\u0003M£¨U~}`w$ZPáoá£[]\u0011;ü&\u0011ã/·\u0007õ%ÿè³\u000bï!i;\u0019^ö\tUß¢\\\t'Öø»VJ\u0019rË\u0007ýñLâ5f¹OêqºýI\u0007^\u0004\f afû°\u0000Æà\u0006*ÈpK)BâSJ\u0005Â±*p\"¯ª;ðû\u001d÷ÅþWÁ\u0010LÑ£hÊ6{ìÒ nCäeÏ7*¥\u0000_ãR\u0019ãÝÛØ±®7nÍú\u0015G\u0016.ñ´¸hðV@3Mº¬\u0006²\u001dw´\u001e-Çä-bØ¾VMý~â]\u0017LãlR5?1þ\u001f\u0013c6ù¡Ðù\"¬\u001a![\fÑ\u000b>91+JOÛfóT\fûíj`è$rÃÒ¡¨g\u0018ªïókN¹Ì\u0012$¾\u0006G'ùb´\u001a´\u00174È\u001bfÇ\u0014A1b%;Nj¦ºuyÍS[$Åå¶êwdéDññÀÀÂ\n",
            "_`¿ÉtÅ\u0004u~¼?Â]vb¸ý¢'s['áÿ\u000e³k¦?Óë\u001eyÑV\u0016ç}sV¤>ÒVB8æ\u0010&c[Ð*µ2êê´»_3î\\Y\u001a\u0007çÖ\t\u0002LaZm|·ÐÅàZÑ4åSk+x§õXIÿ\u0013£¼§PÛ k,\u001a§\u0011Ôs\u0016\u001b=]óèê\tV[ÌÕ7Ã\u00040JUÝõr\\¨h;g§^\u0017r­í\u0006\u0003duÏÙúñ÷ \u001bovwò\u001eì}\u0002çiöVÝ0¤C\n",
            "ÓJWö%\u0002uÁÏ½:qdÞ\f[MLdãs\u000eíî\u0016Ç\u0012ÓÔ\u0014\fv©zë+n(\tz >\u0013Pf\u0016ðI¨Cºh&´ÊáJõõ\\C5ïBAWóË¼NéÿwUdc5MíLêÕ¾¿osv4\u001dûäêWî\u001dò÷U³¨&!\u0012©\u0005R\u0015õ\u0018B_9ßsÖv®ÀÛ70M.\u000f½êÃJ*ÎaÏA§î|Áhe;ÊjöðC,f\n",
            "S\u001bÄ\u0010Ãì_pôÎ®\u001eqZa\u0001¾î´ÀA\u0006H\u0004èâÝ© ¡\u0011ïN\u0005±NNè·÷¿~bt~TÊ+|Ê\u0013\u0014¾Ç£\u0014ÑC2²ÂëïrpÉ%ÑóÒ×zÌÄ\u00067Úë@ûYvÅ}Ì%nqgÂË-\u00060vJÒ7[\u0013¦¥¿ÜR\u0006Ïdáð\n",
            "üÊFë\u0014Y¢uù\u0015ýíxÙFØùØêÇw NÔi¯AQI\n",
            "!\u0013*\n",
            "/ûZ^\u0012VkØwÑÞÅ=]ÍI¦ô\fånóixèzTÎ\u0015^ö\u001d'Ö\u0003@µÄ,ÊØ\u0018ZÃlìËÃÞä3!\u0005ôBÁ¶Õïcl8n ê¬¦Ilµÿ'0$ô\u0019\tÆ)\t&®UêT.f\u000fRE¹É\f¼m\u001e ¹ÌÑÆ«\u001e¨w\u0003$·\u000bo©bùTj«ÅßsÐª\t¬2Æ\u0017îD\u0003'u$,©÷ùåî\u0016uÆÆjm\u0012KÝÙ¼Â¿<HåIzG¼~Tè\u0006¾\u0004-Vkó\u001cÃ\t\u0016\u0017-ñåã>A½I'`Îæ\u0002\u0019xä¨ºè@ÑuÒ$¿\n",
            "Æ¬ìlGÁx\u0007Úçu[¹\u0004\u001c@ PA\u00130ùö»ìÜ¹fólµ®Ùäó!x§¤¤)Ô:VOW²ÂÆ)áê\u0005×Ü!-ÈjÞ \\v³;Ï\u0013\taußË^\u0007.Xzy\n",
            "ë¶Pz³º¬¶\u0013x#\t à\b\u0016Iok1z\u0006Ý8µQ`W}§ÍëáÖ'TÃ¨ç\u0016\u001aEy@ÑÞ_õÝ«p(ÿ.ä\\à?\u0001ZmS3#ôNV9hf)¶\u0001ãBÉ\u000bÉ--\u0012øø\u0015*\u001avBv±³¸½ñ5\u0004Â>÷ìú\\\u0013õbH¸¶Î\u0011V£iÍÕ¡ÌD³Q1æ¤Ì«n³©:?{\\¶c\"'êÞ³©©Üh\u000f\u001f\u0018Ôä$Gôí\u0013\u0003-VêH\u0006çè\u0017gì fa½à¢ [bÌëäõNã\"òº'63r\u0007¯XÿMâÖ'\b=\u000fm\u0001¢ôý\täwû>!`Dï_LX1Ø~Ôè¬ X°\u0013Ò\u0003Cò\u0005*]>\báµ1Æî±Ï¹gÉÎ\u0018£hvçJi£sóûåq§V|ú\u0002=6 È´\b\n",
            "ÙoA\u0012èJõÃ&Â¡tÖ7}È\u001bvÐJoT«Dñ(oÆN¢y½Vû%Ó\u0001¼)e\u0000¤sü\u0007ÚO=N¯\tßô]>Þ¬RzAù¥á\u001fÈ¦9oñeV×Æà?±\u0013#E(\u00134/Ðë+M$%Ñ!.[õRÍ[³c+iP#©Ý.%\\k­á\u0018!Õí:¡¦n¹À¿\\ÏâÕsE\u0019LQÄ&pX\u001e\u0011Å/B¸»'Ê!H\n",
            "á.Cg¤\u0007Fg\u0003üwE\u0003Çóý%á\u001bkIÅ3VtÇ_?èà¹\bzÝ,\u0011Ç«4©¬Lh_õf\u000fÅzj\u0005\u0013Up÷âNxSºf\u0010rü\f|c\u0011ßo^¿\n",
            "¾¿nxõ,\u00018 Öe¸·ó8ò,\u0011_)È¼pÓ8ÊTuv\\8í?ú6;¢s\u0005\u0014]¼<Í<tð`úªO:Q0úÖîâÌ,S=t¼&RÒF1ýq\u001fõaOÕ}ÀIûhåêÐ9s%Ë×Éd¤Ê¦HìN¸oáH\u0016×B`&,¤6³»\u0012¼ú\u001bX\u0017´\u0000øºó\u000b*Û$Ïúæ\"äªdßv¬ZD åÏYAó½ÇÓÑ®lþ\u0011\u0016V¯V<E.£K'\u000f\u0010~'W\u0000«¾ª&.ÀÅLKO(kJb0ÌÑ^s\n",
            "\u000bËHx\n",
            "[%\u0004ã±æ£\u001bâl¶Òl£gèæ\u0002\u0019¶½TsZÄ\u0002L?¹B¼jýÞÊ®å\u0011\t\u001dÄw2Ó+\u000b§Ç(VaÃÓ¦]½\f\u0001\u0006ÄßË¸4%Ñ\u000e5\u000f\u000b¯Â^æ¢NÚýÙØÍO½«±\u001fPiù}K_Òõ&\u0016¢Yñv­áh\bày¨n)ÃNNÕ¥\u000e×<ÜÇ\u0010\f.]\u0017Dé]ùï\u0003§\u001cUð&>ÀJ-ÓæÝ<Üµ\u0012¢Y\u000e\u0015À\u0017~ÑÁõú-CA\u001d÷7[Þ®F)tYþ3¸ô[L\u001c]ÄzïÔÌÆ'?¦1þ:\n",
            "ð-þqSÆóÅ1VUà¾D+c!ï]\u001f\u0006\u0015\u0000h\u0015|ùÜÞ'wÏe²kCÔg¿, a+÷ªå\u0007èÂ\u0013°øht]-\u0003µÛq\u0007¡\u0004þ«¾Üúx°\u0006*5oHµ~Cëè%\u001eR\u0000\u0018Ü#sÌG§n:ì\u0004Ãeÿ\t|!\u0007Ïu\u0000TØ·AN'XwÍ­»\u0016ä~\u0010)\u0010ù¹à\u0000ÿiàêÔþ\u0019¸\u0018y(§rü\u0004våaµ8_b8Ý®=ì}ZäD\u000fÕUÃ+2ÒÌ¶çj>]Òd*\u0006\brK\b´+Ázäí¬:fDYNoWç)\u001fAyÌ#\\þ¿êJUgeOÃ«\t0SD\u0013´U/¶¬\t£ô­\u0015NV{¿È\u0005.ÇÎ\u001dý$Q×\b³ÍT\u000b_ßÆgÄÅAÚ\u0011D(\u0019¥ÁÒ7\n",
            "cV\u0002ù\\\u0007*\u0000£¦Á{\n",
            "q\n",
            "Ëº\\\u0005O-;\u0006G\u001aPaQw\u0016ÐeªQ­\u000e[V*Y\u000fZB'\u000b`3þ\u0011H¥G§£hlMK¯ü°©÷ù¿¬Yýö¤fi¨cÔt,}@ëÚ\u000f³ý!êzR2nÒÙ\u0010Ö ê ÈS4DX´Þx\u001cú\u0015Ãa·/{Á$;'âFs¨CËD6@bl¼-òA$nwUA¼Ðó#U!öTËØ/ãÑÆà?j\u0012\tl6k\u000f­0>;¤÷fô´êè\n",
            "F6û\u0012\u0006ÑUôÐß´\u0012`\u000b.ÕóQ\u000b\n",
            "ñG½sðY êÉ©²þ'·¢×:³1àµ­ÇÕ_ðómâF?Ð9æ\u0018]ïÍ\u0014¤'ÄNi89ì%unÊv[Ê)ô\u001bë\u0013­8@ÊÁã¨U~»àé/\n",
            "0¶\u0016U0\tñïó2w*.h°É`®«í\u0015Lâ(Q\u0001ûÞ;\" \u0015û\u0014[\u0005û»\u0010\u001f5a30ùR:\"Ä(c¦lHrB\tát\t\u000f\u0019/rá\u0007Z0\u000fRØìÎ:¡l¥ÿÄéÂI|,K_{ê1À:?¹¤=\u0012)p£HR\u001a;Ôo¸uÄ\n",
            "Mà\n",
            "$\u001aæp¸xÐëúL¬ÈýÚØránzû½¯49 kVG>bv@îsh\t\u0017I\u001a\u0014üÇnB3ÁS\u0004®ö5×éÔÀ>)Ú±~\u0011>;~Ï~+çó&Þ\fûºjû\u000f]îëL\u0004t3\u0010üËLôâ,\u000f\tMÿ$V#L)@0\te\u0010M\u0001õ5óñ*,'\u000b9¥z`DU N¦Sr\u0001G#¼ñº£\fB/\u001eÊ$2&?i¯IE\n",
            "Nvot<%i\n",
            "j\u0002è«ë¥öûÏ~j#ë]q\u0000+Þµ>±\u0013ÉÊºtáÝ»>_û4<üÐgÏïÒ\u000fG´Ý\u0017\t¬\u0011uPKÂGö\u0012~EZ»\u0010Ø\u0018Géè\u000ej\u000f@P\u000f¢r\u0000êT£Å`\u0014\u0011Ì§W\u000fÏ´õjµÒw}'\u0001E\"g\u0015\u0017yäJdqû\u001bÊí\u0000<ìV÷^ÿý?\u0005ÚÓ½qþ\u0019ªd\f6µÿe;Ë_\u0007HÊ¶Ë|8f\u000e1ËÑ¹Üú)\u0003¹EÝ\u0006WDA°õ~Á·.³¯ãô6\u0013\u001dße0þÉ%âHø$J§Ò|o~ëÜ\\oT¯7_Ä Ñð\\\u001e;n2\u0003\u0004F\u0007ô,ÙètÁÈ\"£\u001a\u0005¸\u0017ìºu%ËÕÅ|ÒÛ5A%]\u0019¯Â!bê\u0000þìè2(0Xk¨ê®Î¯÷\n",
            "§bk9#cìu0.«/C÷µªÃç¾Ù;ýmg©\u001dåFà×\u0001ÑpVt?ëÔk!\u0011$wkòL®zÐ·\u0015½Ú%ÂUÆO|\t-¾ÂÈtÎz\u0001\u0001\u001b¬¾\u0016x¸\u0002%¼_\u0004\u0003\u0012L_Dæ5Ú\u0011qó3ùÿ'RÃ?ôÎ\u000fT\u0002T\u0002év\u0018BÀç¤âa\n",
            "\u0000>\u0011\bÁwÉ#\u0012@óÚ<ú2¯~­î5\u0006)ø(õ÷\u0010!\f2¢Õ;ß²YU¥Â\u0012\\w:êìs\u001b\u0016¨ÜG¼-åÈÊÿýºa\u001düîØ¬±r\u0018U®q¦¶àYQØg\u0018Á\u0011ÃØÇ/Â%¨¥¬×xPÐvØ*\u0016HN3\u0012t¼J\u0002¬\u001f¥\u0001ú|g·u\u000f©^jØDsûÄÜ\u0013çP{þ`u¿Ñã\u000e±ìy\u000fko{¾ßo.R©+jé\"­b4¦aiÙ\u0015èS3Öþ_\u0011êA Up:\u000b+BtE\u0014ª¹¯¤ÃîÊ6¥Øp\u0017Übu\n",
            "õ+®ßõÏbW(õ\u0018äúm¼eô¦ÿ\u000bg\fk¯?ê\u0004ªé2ú2èÿ=*|³\u001a.Ç)ÿ<:ÅwK\u0002è}ë\u001e\"çà(OÀÓ\u001e|\u0005¤0M?c\u0006\u0006v¾\u0014.pMõ9è×áýø\u001eÚ8\u000f=Wæ¾-þp&\n",
            "r¶Ó\u001fàsº½÷d\u0017é\u0018J\u0005­\u001b\u001auªö|&ú\u001cy6rêÀ\u0017Õ\u000f\u0007º°¬uÇ@kvI%ÏÅwv¬ <ú\f\\üd!ÕÍ\u001fv\n",
            "IÜcÀÜ2õÖóÁ\u0000¶uÓß\n",
            "\u0017Çì#|Qñ\u0000ÂªÖô¬\\ØèÆMh©Á¢ý\b\u0019¿=D}dHC¢Î¨¨®ü¦¦6\u0015Yaå¥ñ]¹\u0002 ±óVVþå9\u000f#ü­*]¹<6²{sSñ\u0010¯ÉçÐ»äÉ¢-LpÝAÓé\u0001ôáË´s&~º])|§\n",
            "JÜ³K^_f(3wI@XÂÇ]ðbÓ*,ô«åÅ\u0010bõ\u001f¥Ma55ôV².ÇáÉ¼®ønpÒ\u001eP©B?~WéÆ%/¢Çu(°Õß[gõ´E{ÑÄ»3ÐÇ÷÷%\\\u0002¸ã£U\u001d®ào+\u0012x'JÚÉê1q'â9ÎK^.\u0005þ/ðØ½\u0010\u0018& Ä±¤î¯=Õ¦×u#Ê,8»D\u0011V&ü xK\u0006¸H¦5Ú\\Ò+î\u0013În\u000bÀk\u0017(a$_¹ )\u0002\u0010¸ö0[]sü²+¾JdT×ÈÅWÿ\u0000í3=8ð§\u001bºÚzô©¬R\u0018\n",
            "Hò¦Õ^\u0012¿È\u001eN]§^ÿë|ÙäæK!\u0019¬\u0017e©i\u001f`V¥N$v½\u0013ª$Ä¼xUrÌ\n",
            "Èð\n",
            "­ßÉ ·§t\"ÞÀ\u000f[E·ñìpUÿ»ÛålÕÍèO\u000b\"\u0012²ñi\fQç.c õÿ)1s\u0017!ËÉày ¼\u0019\u001aôÞ¯1Í(y5ZD~ñ\n",
            "C\u000f\u0019*Pl=\u001f\"¶\u0010\u0017'J¢e \u000e¢á©â¥²¢pI\u0001ÔÇÜ0\n",
            "(.\u000e&pxyHx\n",
            "!VDi\\'àáì\tß«:µ¬J\bÐ¬ÃO?\u000e\u0007`\u000b#ï\f\u001a×\u000bUoçþù>¯Kþp\n",
            "ÿñó½²ìïy-Ù¼ãÓOkv\u0013vzF3\u0004\u001cÍ¯ö\u001dç&ÞsBá¯TöûÎ8õ«k\u0011d3\u0019¡\u0019\tÆ·Ë¦§Øà^Ý\n",
            "\u001ciï\u001f\u001aæÿöÑ\u0013ÄËx\u0003PÁy¹eñ8BVGË'\t\\\bA\u0013Éy_%u-\u0019XVk?\u001a®\u0012Ôgô­JV+Ò»*Â\u001b°È'\u0007ÑÓ$­WO\u0017?`ý\u001c Mlsö\u001dS\u0004ô\u0005ðîCVÚG\u0011\u0018\u0014Ø\u0001á÷òò\u0013\u0016¯Z\u0002ÅóOWøé\n",
            "¡ÿ(Ó8%\u0019Êäß^õ+ß \u00022\u0014ü\u0002èàÝrUñ\t^Ayê¥Iî)­ÅÃ$oPw×û¿ è\u0000`\u001f°Ç\f\fpÕ¼°aíô~\u0011Wöü\u0001^õ¸îâúW!Ú¤Ü(÷ÖòÞ]\u001dl·'ä-\u0013C¸áò\bÌQç]\u0016ÃÌè³Db?è¿#Úmª\u001e+<Jú£ú\u0012/ö2ñ&{U\u000b\u0010\u0012ÚúuÎd­M\bÜ_\u000eDñ/lmB/\u0003`<0T\"Î\u0005Uèãv­òª<]Ì\u000b9õ\u0006aXÜå)Jzd ¬\u001cNÙPÚ&!ÑrÛËE]ß@\n",
            "\u0018I®MªGû\b÷wÈÏ`Z\u0013S|óeû¾qôº.åÚ\u0014Ð¾k\u0018\u0018¹à_0¡XiT;7èËÙýe\n",
            "vÒäÔvú¡W\u0012ýÜ$\u001f¡ÉÈÑ¶±ÇÕ½\u0019òÓZ\u000b\u0010'\u0019+'þ\u0012\u0007ß¥K®}`qÃ«gß\u000fÝw#vN\u001aàD\u0003þ`Î~h÷EÜ·ÌR\u0018°Æ\u0018?o²µ{l0k¾Ò2o7÷ÿó*Ýz\fÈáÑ|ÞW\u0000f¤ÓQ'%:PJ\u0018s¶0®³ó(«£Q¯\u001c\u00160üù.·cÌUáî*e¶=§æ\fO@ÉÄ§bdªsÉ¿TÃ\u001cÛRìñH?:,)ÎyëÀÂ\u0010&§\n",
            "­ÇÕ#G\u0006øâÊO°OýßWUê>OØÒêÿu\"¾ÛÕÛÐ\u0000NäåîK%\u0006ôÐ©Ç|ÌTóaÿN<\t¬\u0011NVÔV!¥x°½D-òÁÐKéôK\u000baÕt'ÝÒeZ\u001fÈ\u0015\n",
            "ÚkPÍjOu\u0014\u0010\u0018uÜ.¾3XKt\u0013ôV»¾ùKËÀ!\u001f¨KplÄó*â-PÉµõðä!nÿäèä´ Dv;öñÍB*²ç\u0007{ ðÊhøúÁûA\u0003&\u0019¤¿ôØ\u0011%GM³\fã¹)©\u0016s5úIOá:þbå«?\u0010\u0018C\u0001x-,£UT×Ø\u0018\u001cHmå¡+6çÒÿå4Z3×(\n",
            "ã\u0014hl­¨3NÔæ)D±ß|J2×\b¦Æ5«Ü¸í1\u001c\u0005âñXÂU\u00068lªÚ;g¶Ê\u0010°;2²G&gñUèÆ¯ë\u001dÓû¾\u0017È¦6þßNwÁ\u0013,*îú çÙÁymÛJý\u0011:\u001aÚ\u001fä9¨]æ-\u0012-\u001b\u001eÄ®8¤k¡OúsÂ²à¿%/&\u001eÈÂm¶ ß\u0005æöégÜA$Öê±xv [Þ\u0018ìBgÍ2Ü×E¹Åâ\bF$RÔØPñêäPD\u000fºýØ eÛ\b\u001d^6Ã\u001d^>Ïg\u0014!¶Ì$aXËòKL÷Òûªå­íêM\u0016\u0014cRvªLÎBt(d7\u0010Ø%áòÛ\u0001vÍ~ µ¦íË5ï¶ò·$¬H¯BS>²&õKà\u001f\u0001;C^\u001c¿x1è\n",
            "¥ÏcÏQ\b\u0007\u001cÉþ\tÏ\u0017ãàn¦Ô\u001b¬\u001a|E\u0017dÇßc¬òfvó\u0015óFiYJ×¿Éíie­ÖZAèZü±gt\u000e¹Yz%ØïFCFÏ|úQ7á\n",
            "PKn}(\u001fÜõîm\u001a\u001c\u0015\"Ú)\u0001!HÏE¿·0oÎRÙmDªòWì\b¦o[¶\"X~¶~\u0016J\u0014ßf5Ç4g·¢Aú\u001bzu\\_].ZáÄio©Äæ\u001d»[Òÿ]Ñ]ú'¦\u001eZ`ÿ\u00117q¤in(dqð<ÔRÐ·¬VKV¸P²Ô8å\u000f0\\;=£¨«opÐ¯ã\u0012ÇJï\u0018WÍÆ4Å`IÝrEA`?%X9ßPN5T¯çWBo/\u001f:\u0016G©\u000f\u000bú\u0014\n",
            "n\u000b5¿ðwT\u0017ÂÝ!\u0001r!\u000e0\u000b\u0001ÐýsÁ:ºQ\\P \u0015è³Ùy Íö7id+Jä$*{N·¤ºÂöðú+ÁOü\u0007\u0010\u0014¼X¢b\n",
            "ÑÏ;zë#êH9ÊC¦§:í:Vå5o\n",
            "þÒy\u000fHaÄþÅDG\u0005ØÇ\u0011\\²Ä\\p)i!ßeé»[þ}À¿7ÏûåXOH\u0005ØÁö[¤\b@\t\u001aª\n",
            "\u0010SX@oÜRúè¶q¿¨²ÜÇ¯Ó\u0012N`§}\n",
            "nï¿õNLeijª\u0015\u00184+cÐû\u0012;\f'ô>)MÊ\u000eØè\u0010^×ó\u00066Òøao0x-«/*\u000e0>Ás¡`DóÜ\u0015þz1µËr¯ÕÞ\u001e.LÓx(©6'#ûþÿïp\n",
            "qQ\u0007}íß8[ö6SQ¸_°*nÛÝ©fj\u0019@®\u001d`á{MS@\u0011\u00062\u0016ÏcÙ±a´\"ÐãÒ/ÿ'æ·ß\u000b\u0014\b\u0006\u000647Å¾/û×÷6#\u0017iô<Îpu\u001eVq¢-õÎx\u000f«,\u0015\u000efBêQOÈqøÑ;HÔ¯cÜOb°J\u0014zýhý*¿µ\u0004îÒ6|µdÓ\tå©ó\u0004pÄØ¢»ËÛ\u0015¨\n",
            "7Êe+Zy°Ù¸\u000ei^\u001d:öùëcÖ\u0019 ~¥JcfÞÀl}{I\u0015\u001bÙÕ,«¿qÄø\u0006{eHè!òäYÁ~\u0014\u0005ZE\u001f8¢Û]Ò]®\b¼×tü°\u00147\u0016ÂüV\u0001]ol²¿êîT%ª¿>-Áê¥³ä¶óñÊj?ÓãÐæÏ\fûÇòÃñGh1®³­UQÀ¹óGQj4 ~jD>Õ)p³K\u0016º.|\u001c#ªòé¡\u00077ûü`?ÍãsÑ¡¨û«\u001f¢Ò_g±½I\u0007åñ~ÃªTì}^\n",
            "\u0019¨\u0012bãö#õÑä¸ÿ\u0010\u000fv\u001d3SìºcPeþ\\âCÏ­;½C´æîÇa\tÂ.\u0001ÔÊYÔ3\u000eVÏ¨Øq\u0016î¢±\u0012¯Q3fÿ­°øáªÖÉ¸¹\u0016#\u0012\u0005gGÕè3%³ñUÓÅ_ôå{\u001bØJ\u0018{«\u0004b)ëø×\u0018¿ÐN\u0012\u0017-Õ,XÓï\u0004y+â»©¯Øû\u000b'\u001ccìrY8}ÿë\u0017öË_ÍoQ,>ÌlÅHbÄØ Óä\u0014u1\u0000¢{µÂì((uña§ÃØ]Î\n",
            "\u0000.\u0010ë{èË&\u0003)\u000e3a%\u0019ÞÛ¾\u0002²qóöçG®ÊÔÞôÍí\u0012«¨Wc\u0011Ògå159ö3\u0013#Åöü\u001d\u0001\u0000/\u0006®u\u0006WÕÆZ\u001d\u0002¯H/ëW\u000b¬Ç¼Æ gXf¦%×õãuï\u0018¥vüêÔ÷Ô\u0002 ô\u000fiXò$æö×ò¯çÖFÄ\u0003G-Uå\f \n",
            "Ë;±\u001cg\u0013é¸ý¢nôè+ùö£@eC± ÚÏég\u001d®H\u001b õûÓùDr\u0002Åô\\\u0012^g\tÒ­ÞâÙ\u0002r=¦§\n",
            "\u0016\n",
            "½Õ\u0006|\u0017¨äq»o\u001dGò\u0019¿Sv8V9'¶ÿ=¾Iõ×3aõÝÛú6¶¯sár\\u¡bó×c>\u001c³\t.\u0000'¤ÐãÁ\u0001ê$È!ì\u0007ú$%k×gì+ÛÎó­wð\u001eÍur½}ßÃcíÏóÀ$ùºÎö7DÓ\u0003P¹qñ¾\u001cOÞíÏãö\"¬\u001a4Zÿ\u001fÐ\u0014ß\t¸\u0018«\u0016\u0018záµ\u0016£\u0001\u001bJ¾L\u0019Ú`dh£\u001dY³Öä`m\u001d\u001cìwÐ¯OnE\u0011H©inSÜ·{zàk^_äkI`Ù}¦]rÀ§¢l\tO\"?õnÛ(={{vòÄW\u001e\"\u0015\u0004å\u0017»¾#-«é+¢\u001cñGâ=Pç÷¤$¥ð\u0010NïA.¨e®\u0003\u0002å¨]ÍÝr\n",
            "F\u001e:\u001dÍ\u0012FSÎcýüTµ\u0014Ò\"é¯©Üðêsï1èÀÈè\u000b=\u0010}ì\u0007¿Á-¨¤\blÑ\u0017¢\u0014Ûe$W\\T©\"Ð\u0018Í)ö·ç\n",
            "ËîVd\f\"ÙW\u0017ø\u001d¶Á\u0006ú}Kó\u0014\bc\n",
            "k\n",
            "p\u001a\u0005òhãYÔzÒÚ\u0015«.Ð¿à6Bt¬úì6\búf«!{Î\ft¬Ä¥ÿQýY¥ÒØ¾UZ BgH·üHâI._&&×/Å¹Ô.ÙB²¾&Fdlôyt¶YÜ}kýI\u0004øç\u001dXÍè×\u0017¬')Î\u0004^gµ¸mcUvÀ\u0018mRöÓXBÒý\u000bòz<GÂý­\u0015\u0001\u0013W\u0016v\u0019\u0000\fY¼fÇ\u0019l¬v+©MÂ¬¸o|IP0]±[ís|Ê\u0012@O&Ýk¾\u000f±êðn\u001f\u0001ë¾õ]æï={ÂÓ¯ûb¦\u001fÆhñ\u001b×\b¨¡é²~£5O%½hY+.âç\"L+£¨£2îWß¡\u0010!±A\u0001GÆ \u0004¡ñ¼_¢>ìõ¿É¯%\u001cÅzØ¹AÄñécAÄ\u001a\u000e\u0018h!®Û3Ùa×\u000bÛ\u000bµ\u001a\"zA\"\u0001\u00129\u0019ò¦f(\u000fí zoÙ)oh<UÍVïfF\u00191zD\u0017P`Ú¹Y\u001cè¹¼5J\u0006(W!^ö/üxç\\.Õ¼ÌGìHP\u0000\u000bµôÖ\u0005*57,ÒþH\u000e¾¤-#6ò\u0012]'ÄÀ÷U²\"öÑÚr%B0å7]u²yäÇÔOgUß\u001c`ÏÎÒ\u001dã\n",
            "K\u0011EñùÙ\n",
            "\u000fÑ,9\u001eNcþ­\u000b+©Ì¶T3àîùîÿÑF ^ÖL´ýq\u0011ó¸¶èn\u0013ë\u0010ñÚ¦óaó8V±;ÆÛ \u0019Qô\\À¢4\u0016çßÀ¨SV.ó{Þº\u0001(nkóFXJ\u0018à\u0015T<×¬÷Ä&b÷öcÐª¼ve:\u0016¢`½³ÙXýd¦;:èá¤×À¸\u0017)ÒøW¬¾ý§\u0015ÖÂø¶÷.\"\u0015âª¹×§ôÔ-@;Uò×óvN%Ã.§»´\n",
            "\u001d \u0000¶b\u0016\u0005\u001d[ÏÇ¬Q¸\u0011>gå[Û½\t\u000bô¦\u0018±°¹b½å¡ó\u0017f>/^Ó\b½;â\u0010gø¾á:¸²¥>eÓ;ã\u0015@ÍS\u0002\u001dÕcÇ¶{Þ­\\ò';yLîúlØ\u0018dtßCy©¶ã{Çq. ,¦\u0003(0yñÂ>`¡:\u001c\n",
            "Ræpl\u0019<B¡Ï@ñ¼?V]Í¡'\"*Ea¢0O(¥ç]Èö\u0002ciwÄaéu+nÉMQ½N\u0006 ­HÆD>PÀ|d\f½¹\u001dN\u0004Þ(\u0005z\u0002©qm\tÑú§Õ5á\u0012²²íM EzEÕ=ªF'þ\u0016»³{\n",
            "\u000f£6Ú­3\u0015¦ÄÐiÂ}6\u001e8Í\u0011VõUUkw\tZ!iØ¤¬%`¶èÄã£³\u0010jàÌ¦Ä[É®â§Ó\u0002\n",
            "Vß¾Ó^RÌ\u000fãeæ¾ËÔm±Ke¶k¸ö¼\u0017ûf.]³¶zK`ô]mÿÑ-j::fA6¢Ä_=$«\u0014'L¦áÁÚNk¨¯a\u001c¶ÊÚva#©\u001brÃ&°»ñì[ \u001f\u0011\u0012Wu\u0007yó·êyv¨@8+A¦\u001eS_\n",
            "\u0003\u0011Lð%\u0001ùÚ³Ø¹¶v¡nÅÛëÈÉB[A@CüÙm\u0013>u@ÆÛ½ÍXñh\u0013L ÓRå\bUn¾K{\u0015¥\u0012#ýò½q\u001e4\u0018-mÎïHÖ}1hf?m=@Ô¢%Q¸S/°'B\u0002<F\u0006&Èð\u0012(!ØûÎ *N­\u0017z\u000f\u0010ü:Ö°\"GÜÐéÿ[Ø\u0014\u0018~«Yà¬§çmòÞYÏqÇ\u0002`LL\",Vhy&e\u0015D=\u0003F¬*ÖiÐxÈIvkrÕõ¼1~*M\\ÃG\u000f\u000bS]c¾R\u00138\u0019â¹qê6XÂgnmJ!\u0016èF\u001fc\n",
            "¯Øãt¦T\u0011tÉ¿\u0006êk»9\u0012Ö÷ ó`ó\"Ê5¾j\u000fá IÚcÿiOiü \u0017tÞ6kJ\b²ÚYÖ\u001dûir\u0014ý¦ÄcãVOÈæZy%N\u0016GÒ.J!k^Uº\u0004B\u0007ç}ÊZòºy£F'pJÔûÞÆDdx+j4A)8\"¯ð¦\u0013ñçn©:¬\n",
            "ÈGªELçYÙ!§bå\n",
            "§ÓAGN\\é×åE\u0004\"~ËA°ËKÕÅÖ±<Û5i#3kÔÆlU=ndç\u0015(0'HDq\"\u0018¼=\u0007\u001d\u001bÞ\u0005Q\bÓð\u0014l|3¬®Lô\u001a|Â\\Ôç*þÕBÍè¿J®\u001f(_Má\u0019hÆ³Gw½ó»K\u001c­}oîð­Ys¹þöD\u000b¾þÐ :À\u0000:s\u0015óÉK¾Â\u001dÔ\u0005þ\u000f·sIÐ¨\u001dîØH,òbØ¡jµd¡\u001eÈû¤Ò¿£Ùe~·\u001a\u000f°\u0005\u000eoxóÏl¸Åp \u001dl\u000f|?c<1Öè¶qÀ¹\u0017¨Ü\n",
            "IöSz(·]l¾WV)ß\u000f¡ßVTå4P°hõF)¡úH¤rÄ\u0013Ò\"úÆq|H²5lù[Oj\u0010|Ñ\u000b`\u0016Å²vTº\u0011\"wP8\u000bËaú (ff«Ì¾©òy\u0000\u0006\u0005Z\u0016XMà­©ß»*3\u0007\u000b|þ÷×£iy³¬·+ý}ä¦Ä±ã\n",
            "¼¸ES¢(Q\u0014\u0001\u00132äÈÈ\u0003òi\u0019Ë\u0001¸.Ü\fa\\q³´§YûÜ(£ GK®+\u0011¢ãìI¬\u0001ÿW\n",
            "|Å¼=vèeÙÈè/Ó©~à`\u0005èÞ\f\\-/åV]¸w&eË¨ýÐ¤Ë\bUr­üÖqÅå\bm÷^­_ù,<9å\\Ù\u0013mL=]wïeàÊó\u0014Y¯ÀÉÒ¤w4ãbÿZê¿Êc;E®\\böBPÈSàPÞ9f¡7W[_\\oú«l\u0005_Ís®K¬ÍÎo\u0007}ë_W]£\u0001\u0019\u0016¤çd@Kê¾¡uhµÀ/Húgg£\u0019\u001b^MPðæÌ\u0011Ëñ4r\\wqË·Ù5UYË¦Ll\u000f°6<\u0003@\f#\u0010½%îÀ=eèØ+\u0012mw¸\n",
            "Ù<AÛÊU\u0005(Å¹û1£)¶\u0017ä\u0003A}ËA©Ãø±\u0002üa&²=:îT-°à\tQy·zí­\n",
            "¹è¥9êw# ¡^æ\\C¬\u001d\u001b¤ãòq©«\u0000àÐ®¶ùª6G\u0005zÕp§¤ýø\u001aí\u0006:Ek0ó\u0003ËqZ SîÆ<Ðî\bøN 7Þó¹ÕÞ¤¯dG\u0006Àm\u0004ßþ\u0005ã²²ô¾Õ![+O$X)tÏ~x\u0012¡U\u0014Õ×´>åS\u0014ï\u0007\u0006\b\"Î6®àoê^¹:âX- bYUËN Ü¨e\u001cg¯Õ»ê\u001f}C-7Ëô\u0001û*\u0000[ýÿäñ~$e´ª]Å¨Á{Pá®¹ÐñL\u0011lïº^¥Ö²]çXì\u0002c^Ì!ëQûµ­ª\u0007°ÖEÀç:Ø±\u0014õ\u0014í×?ðÞ{®òÊMz\u0015~G£Ñd#Yb°T÷`#½*Xþ;/-MP%]ç})/Ç\",,áT¬?\t¨è0Y±\\Ç!\u001e.cÎ\u0014\u0014c!øÓtÆÎêÝK»vÓ\u000bp<ÿ\u001d{SÄÇtEGÑXöñÒn85ôîÃGãµ\u0018£\u0015@Ú6-\u001bA¬iâ{,²¾\n",
            "ÇÀ9¾äL\u0006uPÿ{S²\u0014§Oû\u001dåÙ\u0016Ã-\u0019`ªÏ/Ð¤\u0018Á\u0004ü(¸åI_T\u0011dHV°å\u001cV\u0019JyûöuÙ\u0006®T¤oUª.NÀú6\u0002¦\u0014ÝìË¼TAöf|=RUtV²­õ¾g\u0012Í5«t-\u0012`¢\u0014¦©oJÖã\u001aý\u001fÔO\u000eÇ\u0016Å9Å\u001f¶ï|Â-~FD\u0011Ôyµo?Áíf\u001e¬Ü>ãpO\u0010\u0006K\u0017´1|ùÑS\u0007Ò;nÌ@ÕÁÞâÐMX÷­íAÖG¦\bOdåûH:µ+$89j\u0006öÐ1¦\u001f.yu\n",
            "öä»&\u0019ÉxÈ\b\u0014R\f(Ö)8MlÁ°þõÂ\u0015\u0015%\\ûÅ\u0012XÇ Ý{VhÄ©êÛ¤-Kt$m\u0018ngþM¸7\u0006`­w=±Ú&t*ÊæÏèsg64\t\u0000\f÷ú~¾fìJ:\u0012À\u001að\u0010â\u000b4íi\u0018\u001cò(\u001cÎjIóó\f\n",
            "Êÿ\u0011¢_!k\u0001Ì^ÑÞ¯\u0018O\u001fÛÈÓ\u0004ÚJ\u0015;³ÞÙ¨Fðp\tÓA#æ³°\\[ÿ&úÕÝ8B\u001a´#Ð'ÖEÞ´\u0002=\bæòl¨çù\u0007¯d{Xâ \u0002ú0\n",
            "ï\u0010\u0015ñý}Ca\u0001ê^Ó;Úéo.·=\u00159c<R§\u0017ªáTkBÙ¨bÏTð<O~y%@\n",
            "â+\u001f\ff¾ô1\n",
            "öÀ\u001aC\\íb\u000eÁÖwn¨`s ²&\n",
            "~jäóô}Q¥iGéDEÙâ`\u001e\u0011ÏNñØË[ÝÔµp:¥±ãY\u0015\u000f¬O\\.m4Ìá\\\u0017ë/g4.Ýº$8Þ\u0000ÜH2¥vdº:À\u0000¹`\u0014FëOwâÛ´Fá\\\u00159\u0004ÆP\u000fq\u001dZÇH6ù7¾¿3HV'kï7W]¼´\u000f{:Í\u0018Av«þgº²\u001c2Y°Ä0°?z#à\u000b\u001c\n",
            "\u001c²\u0012ýsàí\u0015Í×4#t>D?#ÃKÙ/NÜH\bdëèÑ,º³Þ(Ý\tdA3Vb\u0006\u000e)âaì|­ú\u0014ÆS.áÅF¨þñ¦A²!·|þ¸ÐÞÌÀiT\u000eeFëK)â#¸D\b#ÒG¦¥¶ÁäÐUR\"ÿK\u001fBAUµçñl\u001bà½¼vê{åë,ìîEäÓüÿ[óÞ\u0011dåÐµÕ\fX\u001cñp\u001dÑ³O*(äcäf¤våê¹òÓ\u001cRa@Y!ùÍÛçI°X\u0011ÿ/\u0007(\u000b±Ü\u0015\n",
            "½HÎ¿XÑl\u0010è8`@º±±¨\u0010m7×!+s×ÖÓkz\u0016ÃL-¨Ðú1\u000f.äT\u0018U[\\mâø»RF\t®ÔÑ¶\u0015¼/ÚëyûÈÃwº3¶ïÝè¯â(]\u0016ûülógPLÇ\u0003a[Ç0¨T=\u000fÒ­£ÄÊÉ\u0017d:,\u0007ÏOE!,¢ÀÿP!ð\u001fx«U÷îxº/f\u0018Ùî5ÐÇæ£Ì:&É{JYî3ÄP\n",
            "Å[:\u0016éL¤G¸\u0015Ê\u0014\u0019©^¼7ã¦÷ò¬.Þef%â¥¾\u00179}â7(\tüºù\u0019A\u0004u_T©-Ý\u000eþä»Zò%@\u001aoyQ©ëFqÏ=ý`Òá?H£\u0013lõ'¬áË0K¥}iJ\u0019\u0006\u001a+£é±ö\u0007æA_ÓðZ~\u0002'*ì\u001eÓ\u0000ðPó<e±Ì\u0000\u001fTé\u0005åE+Õ-\u0004n.\u0011òOåUß[¾\u0004vÏ\\\u0000(gH\u0012\u001f!­\u000f¦&>´W©\u0002\u0014fC1UØÔ\u0012¥%\u0016&ÌC0cá\u0002Ñ)\u0010;m\u0007t^}&¸ýª2Õ\u000bô]ÔÚ¤J\u001c'á:ì¼¡Ø5j\u0004\"þeþºUþ¨lÿ:²µ\u0017zùï(\u000fß»\u0014ä£h´}*wX&qsöÈäC cjè\u0003\u001c:Ù\u001eVªÃ¨\u001fÇ5d¢'À\n",
            "Óµ±o4¦%\u000f{ËZ\fpø}´?à\u001e\u0006Ä|Á \u0003m h¦¶\tbU\u001f²Íyþ\u001d\f\u0014º¬dª:`\\Ý|`¤\u0011ìEj»%±\u001cÃÃ¿·Í×«\n",
            "é\u0017!\u0002.SfÖ©\u000eÇL0Ý¯¨Ú\u0013ÄT×|8?\u0017\u0018ÆïÓuo*,c H*D£ø;3e\bäéëcöÅ5M>-á¯xx\u0015ÂÐ÷ÆK\u000bÝ µ2PA\"<zP\u0017a[÷ZZR\u0007\u0011\u0013O%\u001c ,PT¤ÜBOÊÀZÜÌv÷\u001a·-é%5jmÄkèÜ÷\u0011¾c|6ãï#­å¼\u0018Ä¾Ç\u001a¡A \\KÎ³D\u0001\u0010A\u0001MC\u00028-\u0011ï´ÚDx\u001c\u0006\u0015x5\u001b.z ! \u0002$\u001eôYÞÁ6L\u0003zIÂÁæÏ¾|´Òæå\u0001l\u0000yIT¬Ä³¶âÃg1:ò\u0007U­ÄiAKrMÐø\f¹Õ\u0019£Ñ>\u001e(º¡NË\u001de;[ªýD\u001aÄ\n",
            "j1Üwj]nÈÐÙ¼YÍ°¨'iWÎdÖ\f(½PÁéÈÕ\u0003\u0010wÒ\u0012\u001bþL9dîcø\u00183x0ÔX\tZç²Wv¿¶(TîB±\u000bôYÅg\u0005ñÊSd\u0003\u000eÜÑpç\u001c~µW\u001c\u0003ÙÑÅ¤-~%¡³\"À\u0004 °ËúR\fbÑZF\u000b@fPîÐY%îkd0pýÿQþoFBs­\n",
            "@ö\u0012#ña¡©jÔ\u0002I\u0002ó\n",
            "ÒÜÙÑíòC×»jf·Ésþ»HÜ:­À»½a¶VÝÍ=ûÑwý°<|:/c½·kB\u0007\u0010\u0015\u001dgº6D\u0013ç\u0007½bE§³È(âoÔd\u0018\u001dtéq\u0013D({:ï\\BU×3Ó4\u0018ÀêÃ¿§\u000f#á/­8',áÎ\u0006X9Pç\u0006WqÓW¤±à%ÍÃEÑÝ~Sæ-~\"Ô\u0019è=¼\u001b¼:½Áìßv\u0012lòÚ%>$Wë\u000e¦$÷9=\u001a£@:\\ûÃxÒ¬\u0013ñ>hÛªYÛÏôÕù7{ÀÎQO)v3)«Î\u001c±£u±\\Í9kÿXTK\u0013}»ð6zpë#³ÖR¦ ³¤ã·\u0003­\u0011\u0018døUÔ\u0012Ú­gö|oðåª³ï±=û½\u000bQÒ¸7?p\u0014Ko¯\u0004©Ç\u0005jÙ\u000bÓ_»AD4õÍ#KÔ£bÅv\u001dë/ÿÑö5­.Er\u0018}®°»|\u0013ù\fçÀÞM)\u0007ñ\ft¶ãÅ¯ï=\u0000>ÀPÙ¯\u0003ÐÂ%AÛ\u0012ððbÓà\u0011t\u00133S>kz©\n",
            "\u0018C°½\u0000ç\u00169íÿýJñKøÜò!Gö¹1g\n",
            "£i´O7ÈkQÛÖÚ\u0018í\u0019n9ç\u0015_è\u0015äÒìêm\\1Öéà¯\u0018DÀÖ[\u001e·çeyÞWV¦q³5\u001dØQ\u001e9¿ÄÆí2CèíïÙWN1éaå\u001afãÏ\u0012T±$GµWéýZ`µ\f#¥\u0006Í\u0018-Ì:'\n",
            "õç\u0003N5C«·f¯±\u0017Ç¢F\u0013.½Ñ²Sõ|Lù°Ï3ó$J­[W\u001dyfÈÀ¸=\u001dO±»ôv\u0017\b3\u000e\u0000\u0002\n",
            "NjÀ\u000e¼©§÷\u0005;\u001a\u000eßhgáÐû\u0016:\u0014¬íØÇßËùÊÝÕÇÇ\u000fX\u0004»äÜúlÉõÐm\u0000«æÊVooUQ9&§]|P,åb\tä\u000fÏÕæ\u001cÏ?û>Ç²ù¨Ð¢%>\u0014\u0006­Ùp!b´\u0007:ç$ e%\u000fâßà¦ü÷rxÂ6Á\u0016¶³Éñë\u0007ïÙ\u0000\u0016e¦K*\u0016Õ«t\"<ÕèËÜ/\u001eQuåÇ=~x'°Þ³cªË\u000eÕ\u000f ´ÍZ]M\u0016Êw* \u0007¢#Qï@¡~Tßc Ó%µQ¦¼,\u0019`íYÔm1rvv\b¯Ô¤\n",
            "\taëMZì2E{óN\u0007\u0011·6\b\u0000\u0011h\u0003y\u00012½\u000e@8ô¾eA³D}J\n",
            "\u0004[YÄ\u0001¤\u0015sºaÌ\u0007\u0017ût;Ø´\tÙ\u0015TèC+\u0002@y\u001a*WðO:K[LKirpl\u0013TìÆ\u0015Eá\u0001c{ÿòÔT o\f3\u001b\\ÖO®\u0012\u001fäb¥n³¶ÃÑÁ-\u0017ID\u001dð\u0010\u0015ÕPs*_føDY¹6Ä\u0005À)\u0005mÚÛj\u0006c\u000eiºÍ\u000fþ\u0003Ö½ªÿb}áÉ[î$Íë×D\u0013\u0001÷¤\u0010ê\u0011äM\u0005(n\"ðÜL,|TÆ/¸\u0017Ä5\u0001òÍ]îp\u0000Þim2%¥øzÜ\u0002\u0004ñ\u0011\u0018ÃL}º\u000eS×h!ÉÃ%Y~Éh\u0006\u0004ô\u000eÔ\u0000Da)ôã)g¶ÔAAF\u0003Óª\u0017òjÃDT4g3¡o\u0013¦,q×gW@¼\u0005\u0018v·-«\u0001ö\u001fxJ(Òwò¯ü<²zÛÙæO\u001d¼ÊöÜ½õ]$¿¦iTä!óqÏløÿÔ\\voe%¬K¤\u001c¸äy¶òYúq[:°â1§Ð­ö\u0010à\n",
            ".£Ùðqe\u0011\u001f[F([6MÅ\n",
            "{ÁöÂv{Ò3>bÊjá¥Ú\u0000àÌ¼T\tø\u0014û*1î\u001a\u0011|WS\u000e`ÎeLõ)\u0018\u001bu³¯DÕv\u001a>u²ÒfeK²zQ¯\u001cÓÓ\u001d¸àE>\u0013¿j%\t¢¯|öj\u0004hçLç­Ù'Eï;b6\u0012'ü5°þ\u0005PëÆ ·HszÿP¾\fÎVò«~åXÊC]s ]$n<\u0019+ø¸Ó&íØë4\n",
            "V\u001c\u0011Àã\u0002­\fËæ²©úS\u0010\u0019_g)«¾ý*òê;2\u0001]àó:©\frMµ\u001c-C×SÅbÐîÒ~\u0002pr\u00150Ifâk\u0015ILÇ\u001aeÔ¢µq£DVF=[hµÖh7\u00005¡\u0001Ý¦]O¨0¿\u0000õ¿JÃ©Z>±(\u0004¿\u0018ÜdØ\b\u001c£^Ad¹©ø\u001dËö\fÓtLvA\u0019\u001fÐQ<Óa\u0003}0Ebá6\n",
            "Ù?Ä?S\\«\u0002Ú·Q·9å\u001c¸ô\u0011;³p'FT@h¶67ÃÕØÑi\u0002ÅÍ½B³ÚûÚp\u0006ÚâàwîG7Üº!ÇPæ\u0012÷Æ¥\u0004YAÉ[¿!\u0011ÍTBÃn]¬>\u0014½ñ7SªHý8\u0013yÜ,ëX\u001b¬³«½Q\u000eqÓÞ{oÂ3îz|®î'sÕS\f}JgHÕÏ.\u0000ËÆãü8ùl}Ôr;±á@QmG¥¿\u0000)Y¤Ð\\ÿ\u0014iýìÊj6\u0002(FmN¶CôÔq\u0016Çb\u0000Þúßä`¬«Ô%)ûXÇ0Ù\u0012MÊ*4¬\u0015ö\tzPõÀð¾K\u0019?3\u0016÷hþ´ä6\u0005ñÃ»è5ã¢Dµ9\u000f6ûÓÉ,äãD\u0015\u0019Îo*³M\u0003\u0000\n",
            "Û6i®<Ì³kp>'¼ª\u000b,ñõ&\u001b ¹,gÙ¥\u001ci¸\u001d¢,Â­QÓà\u000fÕhjCð5³¥¤0¸óÌ¾\u001a«ßJCÐ\u001cü\"j§B\f!&ÜÇÜù]Úë;ì!ìÐJï\u0015\u0003j%ÕýWý\u001c\tÄp\fhGm`ìÛ\u0016~7+\u000e\u0010 \u0000ÇïrÌ\u0002¦\\\b\u0010©êX?Ð±R\u0016Æ­¶2û/·D\b¿®1VAø»°`í&yü=ÝjéN¶YçÎ(wLæú­¥\u0002&\u0018&Éµ\u001f²5;Lù\u0017ÁQ;Ú¢r\u001e¤\u0006Ö<¹R\u0007Ãmó\u0001ÚäUh\u001dÚz;cG$¾#±Äâêpt¥x\u0000ï=K¦?\u001f}RÇ[ù\bCs3Z«`&ýÈ\u0010töÔ ñ²M\u001evcx\u0010Ö¥Î{zh\u0017`þh)>ÑMÌO\u0018\tÆqÙ(èRØ¦Aa#æ?¸u1$\u001ewîÑ Ti\u0011´9ÇÐó\f°\u0004;ÁiÃ\u001bëò\n",
            "\n",
            "4Ð§\u001c\n",
            "ðÝ\u0011\u001d­ï..äÔUþ}Na°\u0006)Ò¡\u0005ÍÿÖá(+ÀÔ½·£Ñ\u0007:6«Ç\u001b®¹píkfMhWA8S©WÇÑºÄ®\u001dL\u0012sA\u0011GÏ\u0011m±¼¿÷Z!Z¦®`\u0017ã9ÛÈ\fa=W¹\u0014\u001cÈæ_\u000fIÂ\u0004\u0014K5AÓ(äß¢ÉQ¤ñWíªà·lp\u001eÙ¡]y]KD\u0011Ëø\u0018±®T`pÈqá?\u0017è[ÜUë}þãUvMiénu^Áªj.¹\u0016°(\bÃ/~ï¦éGé2ðô\u0018Alå{É A¨¼'\u0013æÁ¹^¦¨Ê\u0014º\u0005æ¬`áiåcªè³DG\fXï+´Vñb4ó\u001f)\n",
            "Çt0Ùú^\u001fC=kçæQ\u001e\u001cs¸è*\u0004|)b+ëUr«þ'Ý\u0019¥`H³7,4®GÞ?ì&Qyk\u0013?\u0005«D}t~A\u0014n¿) µ\u001eªO÷ë¬é§*ä×'\t4´ÊªÔ  \u0018\u001a¬\u001cS\u0013ÝE\u0000;!Ë\f<9H\\Ãkm¾¦%¢)%\u000frSå Zÿ!\u0014|\u0004ÙÈ[Wx¶.³V\u0001!3ßð\bÊ÷=³\tùª×tü{mMúýØ¸q\"ÃhãU(à»k± É¸8±/ÃÞL\u0000Æ\u001f0ÞI\"Ë¨RT<ü;\u0010&¢h%/ò²ëKën~w\fÕKÒTµLaáñöµó4\u0004GrÂm[á¦&L¢BeÈØ\u000e¨iöÞ¥´\u000f÷Oÿ´ àaìD´-¶ê\u000bÐýO´vü\u001aJ²Á\u001cøbÏCÍÙOqÁQ½ççQ\u0019\u0018êz½wWì.\u001bê¹Ùß=«.FL·ø\u000f\n",
            "ð\u0006Éw&ê¼û>ùCµÑ<@\u0002'©f}\u001e4©º'&gxÏ=\u0017hð3Û²ãQ\u001ar\u0016\u0017C©üàá0uÚX\u00190V{z8«¢Æ\u0000Z1íf¸èÓm_\u0017|)4]Üª:{¦Ô {¾4|»\u001b>\u000bô:7\b5R`)\u0014Á\u0016¬²¹ÒåjõÓ¦`ØíÊt\u0016u\u0016\u00104mNm`)ÎÞCÔI\n",
            "ÃÜØ³]g¢>\u001ahÜ$\u001dø²\u0011D*6w=],Ç\u001enúçØúkÆ>\u0000£ÉÜK\u001aäZ2]ã'ýn\u0011M¦În[ïílòÁ*i\u000e/ã$÷\n",
            "®ÓßõI¹\u0017Tùø¡ñ¡%Tû'åNrÐã#ÜtÿøGuS·z.½Âm{/\u0017i^Ì^ü±ªS\u0012É¥\u00172_\u0016d²=k\u000f\u0013¡s×÷z]\fìÑÝn=[\u001erZ\u0018¡Ì0\f;zÐ9hB!\fû¼[£Q\u001fB\b¬Ë,Êá-U\u0015¨ùäy|®jI\\+È½\u0015©\u0011©rÓâ¾u>|Ï ¾±\u0003\u0004'\u000fÄ\u001b# t#Û(ÇzÏþMðÕâC\u0000Õ)\u0016Q¥%i¸\u0011^¶\u000bDA±®1Æ:\u0000Ìd e\u0017!çä¨Þ\u0017Jm\u001c7`Ãr%\\å_\u001dÌµ=¥/d+ýÔgÞ\u0004î\u001eP_àÏq-t\u001c`À\u0015ZñõB»\u0012dU 5Û¯cò\u000bÑC\u0007\n",
            "É¿âÃ17Ï\u00058F\u0019Æ÷ð+v%Ö-Í´Ó2\u0001÷£W\u0005[\\\u0000¤Gëá\t\u001c?ÝÆ?g\u000b\báÐ\u0007?;ÿr«#\u001dªÊ\u0007x'Ó= øïF¢è9HbÎ+¥M\u0019Ã\"v\t>;Õ#¹\"GÆË2ÂA2ÿ\tL\u0012¬ãÊñq\u0010ªn{\u0006\n",
            "oÒ\u0003øÁÌðùöBïPRX°1Ö\u0014\u0006¬Ûº\\Q\u0011\u001a\u0000õS¨q$Â¶´Þñ?G@×ybßõ\\_²\u0001^@\u0017a_W]\u000bèù.Â¤óx=Ö*\u0014Íø\u0014Äqå>à <]>XiàÆN¬\u001b[Â\n",
            "<¨¿\u0014hpçÌw'5\u001c\u001càHZ#Óìq=/)<¯Ið`ÿåÒÐ½Vû(55oé2Ä\u0018j\u001f¯ ²\n",
            "ñ<ÇC·Añ\u0002È\u0015\u0006÷£î¢ñfd2@kIa:×ï6Û(,zAz<èUÏ\u0000Á:¦Ó~ªíGÊ·À\u0017>\u0019*óµH®C­îj\u0010+\u0015øh­ó(++m\u000fß&õÓS(\u0001\u000f\u00122X;8a¢\u0013Ñ¸3ä´-í\u0001Ñqï\u001dè1¬¢Ø2Kû¥\u0018v»./Î\u001e(ì\u0010Â`ó¸ãÚ\tmÔn²®dÄ©ÜÙà©\u0015*¶|ÞFë[Úrïç£#I\u001f~s\u001eåk zò>Ðæ1b|MØßë\u0003nùlhú!ÑÜÈhö½NÛÙ/q$\t~êX\b_\u00017äuÕÈ/¨\u0014*ðÙ\u0018ðÓFõT¸Þ\u001aâ²Ëc=È7aÎP~Hf(#·C÷ÄB)±\u0015\u0016%¨a\u0000AÆ4@7WÌªww.Ä¶\u000fe1\n",
            "\u0002ëûà§\u0007dÿÆLZ×bÚ\u0019cªÜÆ\n",
            "ÖÈÆ¶ß\u000e\u0016tÓ[DêuÎ¾wç7?åþàÓ2óÝá8r9ÁâSº¦*ý%>~\u0000R\b\u0016Z=øæÑö®!Ëe¸ :J©\u0005ê´ÜâLk¹\n",
            "roÆkñ7-xMÑ¨îµ2\u001aQ}7ý²×\u0013ýÄ?ÊÛR4(üyÎ¾!0ÔÓe.Zl`\u0002xÖÕ\u0013IìLsB\u0014Uù\u001e\u0003!L.\u0007Ö³zÿUÀ<¢\u000bg/Û\u000fH\u0018^\u0018/ß\u001b×9õ[ìØ ¯g¼\teX í¸\u00160$WF|\u001aÜÍ@\u00062>_â©ÉtÛ$\u0013¾Äãgeå\u0011\u001fÃÙVöºyËVbò´âïKº¹ya(\u0019\\rùLÙ\\u÷\u0004\u0011öâVëb­½=¡²Óõ\u0004Æ\u001d\u0015ò|!ÙZ*ª\u0002C{D%Ê·\u0001®ìÕ°Ú©é4zi|zÏn:l\u001câc,§ªÑ«æÿË\u001cª$\n",
            "Ä^åj\f«\u0014WÛÖåfJú\u000e#ð³WµÃE1 þx\f¹µûãÉkTcîü¬åæ/ÕSÓ\u001fæDd\u0010ÚÍ09Ô¹Éjõ\u0002Ç\u0016)\u0018qýÁZ?® U4µ£\u0007é9ñJxÂï©q÷·Ú\u0019zÁHãµË|Kª\u0014i\u0015Ê(\u0018\u0019\u0006\u0007KüÜ\fÆ±c7¹÷¿Å­\u0003±?ë+×jfEñBàLBFb\u001f(½\fVùý¸×\",_\n",
            "QÇÞ»~­÷3\fÒ&e\u0000¼\u0006Btg07\u0001o\u0007x¤:´Ø¸qÐ5ú\u000e\u0015G\u0019\\°\u0018ÊððQjyðeÖjø6dà-\u000eÿaN\u001a\u0010ÊÿÄ»lHð£|L?R=Øº;ÙèþÁÙ:l0¦`dZÏÃðèyHi¶2Ù×<\b9µ\u001dC¶+Y\bC{òh(ÞýZ\\àk\u000bE)\u001fÌ^ªû\u000eäÙD\u0000vÏ3w·\u0017\n",
            "ÇLeúaT\u001d\u0006\u0016F@+ÏFì6ÃjòàôÉ¾õ­+\u0011?aÏ¾Áíï\u0014¶Ïëò´íhëÌäBýdÛÍ*Q\u00052\tÑc³³èe\u001cQ~$é\u0014\u0017\u000b1ÝïOû\u0000júuí4B/ð#uü{vûÁ­\u0016ð\u0016Yj <øOg\u0005\u000eý\u0017¯ÑP^ü\u00179ù¶ìUe]\n",
            "2Þ\n",
            "úêëÍíÊ¼\u0005à_-\u001aÜÔ¾í*L3Uþÿð\u00023-Ýæz0\u0001öñ-Mïö\u0002ï=§¹«Ôô©oo>Ì[ß\n",
            "O¼ÇÒ®\t¯qºËSáóåÓþÅ\u0013IØø_;Ä³2y)Àg;5+ÿ3\n",
            "æÃ?«\\Æa\u0017Áu`\\ø@à_:d2Cmkç-K\u0018c\u0001_\u001aÁJ¶¼T\u0016Áú/ÏF._\u001f¡\u000fyX¬Ø§w&Ç=ÛôX\u0010?O\u001c\u001c\u0001,K\u001eïû\u0011èØþf¥*)eî2:4}ÿÛ³y<8fñ5o\u000f=×³!´«s\u0004Ík\u0007\u0018\\pÃ¸IãZ_ÃU@úËS!\u0010,?tIóõÿZXÇª\tÓvE\u001e:°\u0010ñ£`SÅ\bS¨Áð,JÁ®Õç]V§\u0018'&c\u0003aãor)õcÀ¸¯RØ¬Õ\u000f#7¦\n",
            "^{úeæ¹,ó°l\u00014ö4Î\u000e¢låý*cÇñN»Ðâ2@vþ\u001eÜäÉ\u0012\u0006ÓÑã\u000fê¥Ì?Æ\u0010¥|Ö;x$ðÞô\u001cÿ¬\b\u001b&M²í¶¾­*sYº\n",
            "[tmïÎ\u0006¿o3h\u000fjÎÎsØ\u0000D\f¨\u0002¡\u0012VÜ>ôÅ\u0014\u001a6OÒ©\u001bî#L\u000e<\u000eÑ\u0001\u001fáþ¦XºH\u0014*Üý9âN\u0005µ^<\u000f3S¹.Êtlü9mèÅIÀ\u0000÷ñ­güG½þ\u001bó §\u001fb´ÒÜ\u0001§ïÌÔ2©¥Â.£¼/-´*ÿ\u0001ñGË³ãxÛÔJÂÜ!\u0016NxÍ±WÞÖK8\u000fÄ·¨>H3&\tÔ\\\u0017²¼\u0004yìuIßÿá³»\u001e1$²bKt+í7\u000f|ç\u00037ÚWê)N\u000eC%`Ç\u001e<ç\u000b­*\u0010AÅTÌNn\u0004©¢|ð\fWó\bõF\u00148pðüH\u001eÀ%P·«\u0017ç¡î`07-ãø\u001eüÞªjÊtÒ4ÜY\u0005oH§\u000fqôHù°Íb\u001ehß0N¼á{ä\\!\u001eTUó>»ÔQô\n",
            "_Ó\n",
            "\u001aÛ¡Avn ê´Î!æï`~ð\u001cd¤\u0000r\u000e^\u0011QÈê\u001fDü A\u0007×åoöiSl´,\u000b'>¨Ô>è\u001aÑçg!ø}áYÿw÷`>æ¹d&¿\",\u0017DÂ#S\u0019ë³ë|Bl¶ØÇê3Öô@ÓoøÀuSM\u0013\"ñ\u0010Ëw\u001b2Ëÿ;\u000e\u0012¼>ÒÔÆ»dµó%îì\búÇKª2\u0000bW%\u0002¤ÂÞ±a.ñ/k>\u000eå¾z«¹w¡¤I\u001bÓM\tÁÏ³Ói½ÿr)ðÌØ«¤ \"GFõ'\u0010új¸¿Â\u000eé\u001a/ª¢Óï¼»âóPR©\bE³%\u0014BÈYq*ït(hÜêz¾Ò\u000f\u0006\u0017¡Ó\\¨¨+&ÆêÖbhÅ\u0010Á3 ý8Ã3ó½|:hÔ¥Vài\u0012%\u0001\u001d!£÷¡\u0003\u000f\u0002E\u000f&¾¤\fÅ{2tÓÎëOV+)\u0007pòyI\"«NÑµd?jîA|J®8p%*èÞafóÎ÷ÌS&æÚÌñ\u000fó\u0007q\u0007¿\u0011¹jD%øÐö\n",
            ":¹n\u0002\u0002Ü\u0007ÃD`V·VYçß,ü\u001b`\u0003©2\u0002ÄáûKöé»\u0018\u001cÚÉeÁ&\u0002ô¶Í°\u001cÃÒ¤\u001c°Ö4 .c|ïÜØ\u0014¶xÙÿ!þÎKç-/&*hªûåé\u0013*dÎdÜô/Ðmv?èè\u0002ër\"¼\n",
            "äK}ì\n",
            "3Ã$M½ó°Ò&æÐB*\u0005Ëä\n",
            "ìv{ê}¹Por\n",
            "n\u0013\u001baÅØÌ'²d+[¯ÜS\u0011|\u001cÃàòËk\bFÁ\u0004Ø;¥R\u001aÚ`bx*\u000bátC\"ÐGè8Æ§Ý#C>6\u0019\u0011°Ph¯#8pQ@>7\f`úßªpy8~\u0003<?WpqS+¯­\u001bÏ¶\u0013Â»^kÑe\u0014\t°nÊ\u001f\fºÅOÀY\u000fb<Y)\"`ýÓ\\\u000e\u0013¹¦ßzÜA8w\u00142\u001d :\u0017:Í\u0013\"ôV­DlzÿúÐÏª\u0005áÿ¼£Â4ÎgßWvÞ(¿¡6Ù\u00000,£ÇDª7}3ÒI×ÿÿ<sCÔ.±v¦ìÓ\u001e\\:Éôú\u0004ü]\u0001_K\tù¤\fgohpDàCõ{Éw\u0000Âÿ\n",
            "½¥aÙ1\u0019\u001aýô´ðØ\u0004\u001f~èµÓ\u000bj\u0017ÚWVO¾÷wjSð\u0010h_\u0001uüÇ\u0003ÏtÄ\u001fÎk°\u0003Y%\b±DnÚGWUáLß~\"7XC#@3ÌE\u0010\u0019)èH\u000b~ÏVuÉ\u001b(n*l4e¿ë6±\u0016å~¼x½gnÁ\n",
            "s\u0003\\ÙQÆ±ZÚ#\u0012yÆ$ü»\u00002Cü+ör+V÷ )¹²¸·ö6ÉÅ¸B¾,­\u001cÏ\u0004¸ç\u0002\u0007µÂ:!£p9\u001càjÕ´å¯uìXF£Ì\u0005A¨Ä00]HÉ»\\C#@lïë-\u000f\u000b¡Y=­éGË4'ÁþÓ\\\\ª¥cZLläòOA\n",
            "\u0012ró¡ÕAB}_ü\\,ç%òÿ¤Øå$y8iBc/ro´-WÍ<Mè¥ifÊ&6¬8lÀÎ±YfMM\u0003`Î64à¯Añ.\u0014yøCî/\u0007è8&.+è'\u001c÷!aÈÐY3¼~ÃW+Að\u001e47þýâ\u0019\u0017u´·Ö\u0016¦o\u0001åuDõû\u001am\u0011ßa\u000587{8(oL\u001au?£~¤\u0012\t\u001a2½øÆÖn¦Ì\u000b\u0018<d²\u0005w¼änöó·öüØv\u0013\u0003ßÐ°×\"¿`]'N{õHå-Cm«t¬e\u0018\u001a\u001c3`Å\u001fÞ\n",
            "u2(GU XDQïÿ¡GÌV\n",
            "Û¶A\u0006tôì:Éàx\u0000>iFò´ß½k1gDíÎ\u0005ªú4Gl\u0017ÿÊ³èÇæ\u0012Ýà`!O2¢ô\"\\î÷Û(Cfô_¶j¾\u001b/YV\"Æ»QSÀôÕÙ3\u001b`4¡_\bï==pöÓ\u001fN6-ÅÓ\u001bØÐ:<á\u0018¡FºÍ©\u0003\u0013\u001cOÈIüôD<\u0014¬vj¾YÌÅÚ<¾o4ò#Øa5¡»d?\f\u000f\u0002{U\u0018Û\"CpG\u0012¡g·\u0010-¸]-SBëf¨Z:íp\u001bî2¤\u0003\u001dÀ²\u0017n?Kt×Ø+PMø\n",
            "`Þyöçça½tÑ¶l`d\u0003kÏëø\u001f\t¼ø²\u001a!n\u0012å°6g?Òf3£\u001fï8\u001a\u0002jS\f´-iáh¦GÍ\u0005oEBçHñaà±+Tù\u0016\fqÝ#vÕ²ã~\u00079?>ü\u0016m9a{SÝAòâ>eíbê;¹£3ßªæb\u001c{Ãè¢ÃmA\u0013\"\u0012¿>gÌjiÐ±tZp·ñ¸wÔ¤©°ªqëÝ@ Ñû'îT9N\u000e,M]/}¤ÔÉùS«\n",
            "\u0014×\u0003 ·«ý¡\u0000\u0019\u0001ì®q¿¢=ÝO± Y\u0019Ôa:IG}n£èkª\u0002Ä\u000f¤`!/ ¼PVKÝûg2¹LÖ­Î\u0004\\\u0014\u001aY8òÐ]Q\u0007\u0006£þ·±\u001e½¯ÿKìPãO<ø#g/:ÄÉÏô©\u0006%.¦;9µÍîhó\"%~¬f \u0017©*\u001d¿^÷´+lB\u0007½Ö?¯\u0005§ÊÞ×*Mz\u001aªì©H*¸\u0006\u000bÕ\u0002\u0006/«\u001fý\u001f Óöc½áÿó÷\u000fÏ\u0007þ\u0000þb(¿ÿÊ]@ñÌÿ¯òÌPýà7u\u0001r\u0000#I­\u0019ÒX\u0007y 5iÓ\t\u0011\u0015$cÝl¹\b$\f~\u0012=LF¨Xx+\u0017î~\"ÒQÆ¤\u0000?w¦\u001fþóø\\½?ø^]ô4;ù9\u0014îÉ\u0014p\u001a3³.1øÐ\u0003ÖÑóe´*ã'È\u001c\u001a=\tÀÅ¦À\u0001=oå¨ðy%ZTTö;\n",
            "\u0019¤\u0019,Ì¡?Åí\u0002K\t\u000e\u001a~/\u0007Ìº\u001cï!\u00000Òª©kcÂhÈ(\u0004×D\u000f{pÏ\u0003\fÝðjÎ3¼\u001d'\u0004L¶\u001aÊùú@Þw\u0002YÀîLÅÝ³þYl\fb0»ï¯\n",
            "»Èõ»Ë\u0011Æ\u001f\u000f\f»¢ð\u0006b_¯õbh»Ï\u0018\\Ä¿\u0016! ÒÅbô\u001fË\u0001É½É4l1Ð¶å: \t !6z9\u0013¯~\u0017î½]«ëêY¿QåO*ð\u001cÚ\u0011\u001fø\u0007ó!55-\u0000 \u00040ü\u0004\u00140~\u0010\u0010Ñª\u000eüßó91\u0011äæwÀ:}X,ÈÈùO.3'\u0012\u0002`râ}+nõ\u00074\u0016\u0013mQ3\u0017|ÝÁµÆ²ûßOñ\u0003å¯¥¿\u000f\u0010\u0013Ð¶\u001bíÿÎ(¹ôð\u0003\f\u0001ð\u0007\u0010\u000e\"ïÉÌû-\u0015\u0006jE&|\b\u001aL\u0012¹Oì¹\u001bþ¼3JÌíQâb\u0002*Â{ÙâPk6ÈõKjv\"¸éw%¡*\u0015nB<ÕRUÖ^Áø¸ie\u000e°°1ä¿\u000e\u0001?Àm\u0002( P³W¸Ä\u0019t¶ Å\u0018\u0014\u001cÿÆC\u0006k6µi\u0000lÁ\u0011YGþfü|ýåMF\u001añXp\n",
            "\u0010Yù\u000eð\u001dHp\u0000n\u001e¶¨\u001d`¿NOù\u0004#- :\u001aêÃé]\u0017¼ ù¿óÑf¶ÞÊa.62¶õÈP¸¿`\u000bS\u000b?\u0000ã\u001a*ÙzJÜÞRìT\u0011C4e¨Ð©jûÏÇàà\b\u0012~ÉS(û$7£\"®~.Îù:½}û·øf¯^\u001b_A<\u0003(\u0001\n",
            "»üÞ4O\u001a¤Ëc\u001bÔ²¯\u0012\u001cò},{ÅÁtã\u001aèU4Øª£Ó\u001eO>åê\u0010^lÇpO3±¯w÷·\u0016LÄ[#@ø^¨\u001c³ ü\u001e#ÚaÔ½\u0004BÐäO\\\u0004Ã3pj\\¢N\n",
            ",\u0004Z.R\u0016\u0003F\u0016àr\u0018-AÒÎ½7¨Û\u001cPÖZ­rlw)8FòÝíP#b\u0000M\u001a\u0004\u001d±kþÌÅÙÅ\u001e'@s¶@´¬^/fRf\u001dÐF´D\u0013\u0005¢¢ªþ§a\u0019\u0012ÕX0ªÈá\u0006©ÁHc¸À\bÓÁá](ÉiÒ_ôVq§Dì/:ùÌH\u000ez\u001cÆ(\u0017å Rnó¸Öâ³ÁpÀµÏÁ\u00165/\u0002.ÛAÌa¨1\u0002?Z[;§^­\u0014\u0005QË\u000e \u000bXÈ~T\u0013Uºa\u0015ÖÕ*?Óÿ\u00140¦äüO¬+ñ]¤ØXu\u0013.q®ëç¤Ø²Z¬9ç0p½ Ô«_øl´b/O\\µø\u000b¹í¯=z]©z\u001aÆq1eø³Ù§ðyúã\u0000(>põÕä_'ö.Nù9h \u0006N\n",
            "]]\u001e.ÚÂ­Bäµ'qG~\u0004\u000b­D\n",
            "ÿ×\u000e\"\u001bÏFÛø§L\u0000ìGØ#==FzxÑò¡Ð%_ÿÞ6³0ÀÃG$¦]ÖòTÜJj¾>£%$Î{áaq\u0010Äb\n",
            "#;w±®&Á¶ý*\u0015eÄf\t¯Ef\u001bl!w\u0018â}âCô \u000bbÝÏýÂ\n",
            "Þ\u00148¸MËi~sÿa1Ö)AÔ»Ò&\"c\u0014Ç(\u0016k\u0001Á\u0004!¢\u001b\u0015&íjFËÀ¼ñ.d8 FO\u0013Ù´V\tT&Y£¿T\u0014gv°qÐÌÀåâø\n",
            "{ÅõÃ*nÏ~NL\n",
            "Ô¾\fh\f zÕOí\f],ù\u0002~Gû\u0003ÿ£\u0006_æoÿ5ö\u0013.q¡ç²¿+ÃÎ\u000bÈÜõÝs#'Ò`^Q\u0006èeÝ¹@vúãÔÊì\u0018>k\u0004)\u0006BÐK\b|\n",
            "9\u001bÄ$½®þk:þã{OUùË%¢M\t[EKØ¶\b6Â8Î¯Êí\f\u001c@ 0Ä)ê\u0000}¦c\u001d\u000f\u0011Ýc¼üb0þnæ«ª3 \u000b\u0005=©?®*Vöùb.¡oQÙV^q?\u0007­©¬Æ\u001eLZ7è@Òt+M­ &èÑ\u0005TF©Ë\u0003\u000b}oK»<lÀ¾\u0016½n6Og¸Ô Áþ\u000eì'\t\n",
            "ÖB§+ý\u0012l$Vö4l=kId¤\u0000IË\u0001T´¤$R÷5ÞH\u00104/óEÁcµÅr¡àç/1çÿÈ.\u000b)öÁ,O%ÝLâ7Ç5ÝÎ\u0010Pù¯Öü8\u001dý\u001d±\u0013ûyTmZ¾â\u00180DS¤A\u0012T\u0000²Úº\u000e$&ôäo½Ì0±döªý­iN<&\u0016'äóªgºÏà}ð\u000b­¢×àî\n",
            "#ÖÒ\u0013V\u0016ÒèðMmP{=ýÉ@c5½h!SÂé\u0001ý\u0013-C\"\u001cÇÕt©B=-=æ|´\fÛ\u001fL;×ÐïGh\u0004ù\n",
            "3\u001c\u000fñ1d¡MïÍk\n",
            "÷Ø6üÎA3Þ`1N\u0015¡fülÄ|*ÌÁIUõºþ\u001a\u0015ÝdêË¹§A4[\u001d´4Ô»Êüø¢ö#Áù\u0016P¡\u0001`Å²^Vnõl\f/P¥Æb-âím0\u000eá\u0016\u0013î<üw \u0003a~¾ø<àù'îf¹óÀqïüÇ|h»´QâÓÊ¯Ò¶}Ê\u0011rjÑ,J3i\u0007¨Ók0-®#èÐæô\"â¦qìú\u001fD°\u0014Y¾s\ffá§ÅK\u0000ì:º0O,±ßfDzâ4Çug¯é-uÎW\u000fðq¹hø1\u000b\u001a\u0004$Z,>üÊ\u00161\u0016çïü\n",
            "\u0005y­^êª¯ë\f)Cê \u00198sl=ë&tE)j àh+\u0000\u00040ê?#¾ÊròNâ°/,\u0000¯?~ÜÖPã$²­\u000fÈ(¤ë«°Þ)Ò\b5fí\u0004×QÍáÏí\u001eý0\u0017lÙbd\n",
            "Æ\u0002¨Úü¼°|2­KÙ3\u0001¨Zãù]\\×r¬q³\u0016Ù®cxB?Dê\u001aï*÷â\u001f°'Y_\u0011üL\u001dNÏ,ýó\u0016Íþ^ÅýèN¹/÷$áüÜRfÔ\u001aMQ\u0014Äâ'w_!\"\u0018/Ä¥êÙ¯Y285RÛïÉÖË{Öø;à\t\u0003F9DM7ÅW\u0019/ºHÄ~í\u001aí}?=Aß¶af-nb\u001b*Ó\u0006±TÁ0¦aÆÄ¤\u000fÊµEÄ8®Íb7Á²p?øXKígÍÆwEÝ¿²\u001d-Wà\u0010²±YEü¾\u001d;\u001e×\u0007±×êº¢{ñ~Ò(1\u000eÆIzÇÑRÂ·ýÞd\bü°Þã¹\n",
            "ÊpßÛzd£MÑº`?\u001b|\u0000õ¿vwUA(^Øe\u001eù::}µCï\u0000Â}ÁL³óY1\fî6\u0002\u001fÛ¾ÕÏ·«?\u00188î±´R96§¤,ÜÐÿl\"3AL\"K®0ª³­Äá¾JÁ5²Æ\u001eÖ®¤Xðp\u0006îÌ\u0018Ìè\u0015\u0010*²\u0018D\u0003S\u000bÒ Wöc»fgúæ·\u0017út\n",
            "¹èÔ\u0003E\u0015Sé«Òå½\u0003{î³y½}èî¢;¡oÝ{\bGn,au#éx\u001d£d^ÒÕ§ÇÅ\u0015¶«J\u001a&BÍÍÛ\u000e¼$^,*\u0014=ÀÀS\u0014Tî¹Aå·o\bPÛ±¼\u0012\u0003ß÷äDâº\u00158\u0015ÌÒ\n",
            "¦(\bÉY&´\u0018ÖÔBM+\u001eçÓåËýµó\u001c@Hä\u0012Û.\t.%üÏ>î\u0010øÇ<éìÐÝ#S`\u000eÍ\u0003h]CÌ/Ñ~\u0001`|)\u0005ûÌ»ª\u0013îRQìof\u0004¯(×Ú¸)ÄS%?ÝÍ­«P½ì=ÿi\u0004_ëã{y×WX?_+,÷<þ¹\u0016\u0005÷çÚ­´îâê0N½IÑt÷÷9'öÙ:ÆÞ\u0002\u0006^¢p1ÖÔ¬­Û`°\u0010l\u000bXÿ2H2m®\u000f .É¨9âsB83:\u00057lG\u0001®¯\u001e§ÖlW±\n",
            "·Iõ\t]\u001an>\u001e\u0018hxbêe\u0013i:é\u0000Óê\u0003¬2s²v+\u0002×{îÚÉ5Xsý*@W\u001bYOó\u0010ì9\u000b\u0006±\u001f(A\u000b±ÝÀâ1Ó[¥};AØ0þ>@U\n",
            "?\u0017º<\u001c\u0002\u000býÛ\u0000ðþ«¹âÂÒ·ÓÁRi¥G\u001fxPö 8\u0006}\u0003¿Zn^Ê\u0006êó×Ñ´\u0015¤je©ííàY\u0000\"§\u001fÿ\bJ\u0003ò3I\u0002JS-@\u000f?©¤#St\u0007\u000b\u0006Wá-'yðiÐfâ6\u001aQ\u0019Á©\"\"\u0003§(ºÝÎê\n",
            "´0ü«BÉÂ\u000fq\u0004ÍäCÐÜ\f5C$ö:Ò\"J \n",
            "F\foô S*U&dZgÁjàsømªêG\u000bÔt°\n",
            "ë\u001f\u0019áA·È4ÿ¬­c\u001cÚâ£ÙÑñ\u0004)\\\u001bÿt\u0019\u0019o9yñ\u0012·eHÇJL?ó¿;ÝÎ5%úÓéu\u001fOðé\u001cí!\u0000\u000fº\u0019xÌ\u001b\u0011ºûJ­ílþðlºË>´\u0013®A3\u0005ÞÓïÏü\\öÁ²Ðþº#ÞàM\u000e¤gnÿ\u000ey\u000foF(ã0ËïèNAGM2Á¾h\u0018\n",
            "\u0015Ùl¨N³ë®'r<ï§Æ\bq$L¤¹¶ýJK*ç]}Î>òª\u0000uOOêÿ¤Ö\tÌF\u0004ZoÄÏã@Ô9ñ,\u000bJo£÷<ý\u0001CáÓmlx\u001a¸XêßsÐnÔîïÆ\u0002TOlÌ\u001d­v×÷S\u001aèe¬üÓ3{ëÓº²èÑ5¯å)¯\u0006\u00131Æ?óÐ)Ô¾Ê\u0018^PÝ\u0019ß÷k9¨#W\u000b2x¯'ßÜ\u0012{,\\¨ß}^\u0012&rÕi\u0011'\u0000öª\u0015Å×$9Ô\u001f\u001a <@c\u0019Þs#\f§îéâñÙQ¹\u00132ÜãÆìÉòýþñÆ*êH\n",
            "cùã^H&\u0001\"ïô3&*Õ\u001cNkò\u001e\u001cù³KGY?d²¼OÄèÅ?,¿¼9À³Ý\u0007?O`Þjmß\u0001+×èàÊkJ\fVö-\u001a[Áo 8ÙNÑrÓ=\t\u00120ÏÈÁRÔè»xg\u0004þ\u0015\u0000\n",
            "rÀ¨ÆoÌ2d\u00117É{\u000f@ÃÜ\"01\u0002×¨ûDFèîx\u0004ñcpP2,\n",
            "8ôÙÄ\u0007\"\n",
            "r:L\u000fÑaî4\n",
            "ÈîîWR´¹í`VÊB\u0003@°u­C¡°`\u0001wÂ\\«­1ß\n",
            "ÄËù\u0002ÆÓ9x3\u0007v!±¯@ \u0015ô!\u00079\\\u0006·©6BåÁf*Æ²pAþ\n",
            "\u0013\u0014/Ìi ¢@=é<ª¾¬-ÖÒCRú#1;\f=õÓçNÔ¶:ujN¡à\u0004îÃ·£¦2Ñð®hg4W,ÝýÒ\u0003\u000e\u001aOn\u000bfë[&7¾\n",
            "=(\u0005¡\u001eTpPá\u0013eLlëLl@*«ÿOòù*üÒÞß\u0017ä¨K¿xfYt1ÿ©GÅZÉEPGÎäÃ6ó9å<,·£ëìu\n",
            "I©4dQh:à\u0015\u0014÷{ÎûÂê¤P&\u0007.)¥\u001cìÉÝãBa$\u0016P\u001d\u0012Kà\u0010ïþ¼m FÐxl%Ý_AQ¼:\u000fÒ\n",
            "«j(è\t\u0010o;OÃö2Ìký\u0014'¨'¡¤\u0004çfö\u0018+¥ÔÀ\b\u0010I\u000bHT»[?XBö\u0005\u0015\u001dÔn¥@ãÜ¨é\u000bü?PPPCEÈbeX\u00064Ý\u001c\u0007y?PÔà/Ú\u0007B\u0019d0Ö­®¹o,ú¿þe¿=g\u001fíøYËFTlg\"z53?aºÂ¿ðoß>´qÊZ;\u0002\u0004ÄæAµÐ¬ÿ¥\u0014VÕ\u0002¯ÜÄQrb2Ie½\n",
            "£ÁÏý×\u000b2\u0014r­©ÒÑÀê}]¤|u¼(\u001a!Ï2Æ\u000e¿ð\u0004Ùdæ@æ-°a\u000b4\u00075º¶½\b\u0000-°e\u0005\b³(ùÊyYê7½ü°-\fÚ]\u001cî\\\n",
            "èôÑfª)ÃÌ\tÿo²\u001e¡\b:mJ\t¶¡<p\u001euØZY\u0002ò¨éÂ\f­´9Ø-Ñeì©4Ä_ç_ùiÖÍáÞ»á>]6Uêè½S¯ëþä\u001aÉ¬C»´w½\fxV\\\u0011*TzÖ\u001f¨épÐ\u0010\u0007ÿõ­åü0RPc<Ýõü¢ÝÐú,E\u001eÄ\u0003È\u0014O.\u001a\u0005R\fØ-õÌ\u0018\tÛwÃàcæÓ³ILï²5©ôC\n",
            "5.Çò\u00069Ü\u0005\n",
            "7ØÔöS}e\u000bºÊù±á\u0003À¤HÆF\u000e)ùU}Ú0\u001eMd3\u0006UÛù+òø\n",
            "FÿÏJÊ`üIìioXw\u0011Ò\u001c L\u0005w\u0004Ym\u0011/\u0001jJû¿,8b \u001fK?¥Ô\u0016 Q9 õ°\n",
            "}3tU,L,Ñ\u0017ÁÞd÷~\n",
            "\tö+\u0018HN=¿ßÐÔ£\n",
            "\u0017¯ú*I\u0003¢ÇE2RýL%F\u000fn\n",
            "¼ê±g\u001fÌGTø%C~ÉÃÑ\u000bõÈÛs,\to\n",
            "ñ£fÎ÷ßlÎ¬\u0013\u0018´´¶Gÿjÿ¨>v,Òüç¥åj­ð«·­%&ä+¼fC·Ö\u001cÒàÿÐ3\"\u0018Ö\u000e\u001a\u001a\u0010È\u0015ý¯Ü-\u0006^\u00070üV|JeTÆ\u000eâ\u0007·®&ËóWÔÀf!\u0019Ý­ÍV¥LÔ}S8g\u0017\u000e\u0007¨ì'\b¥¯ärÍíÖ*`¶Â72,Å^[ÁÕÿýp\u0016\u000f6°¿L<\u0018¤XÃvP\u0001\u0018¦\u001cÛûØ\u0015GvpA_£Û$ê\u0005èÚ\n",
            "Uªö%¥Ãk~éu8¾d9\u0018):\u0003´¿æi6­ä¥Ð®ö§|~ ¯\u0015t0]\u001erÊ\u000fbW¶¿3æÅ5\u0013Îîq|áõôøÏ6ÆÒúte«Æ\n",
            "ÛÙ³ÄE%>h¿T_!qí½ÒS\u001f¥$Î\u0012«ø#A÷\u001fÖQæ\bmK7©)tÀðÅ£}À²gð9'Ü' ª[±kº¸¹~àñBw\u0001Ô\u001dí¦?éïarÀ§àµ\u000f¹ékM\u0017¢¿eNºcN4¯Û-/é\u0012¬IN}\u0018^,\u001a\n",
            "µÚCaiÛq¿V\u001a\u0019\u0004pöc\u0014¹ó{\fßKê£Ád¹pf\u0000G¸õ~Æ\u001e%M³Ï_6±j\u001aSÿ\u001f2vü\u0003 ÇaúCÖ_°okÂd;*0\u0000*Ó°o\n",
            "[&éª¤Éé\u0010`\u0010\u0000¡P~æ%\u001dåT\u0012C\u0003\u0007G1±Þß\u0005Ó3Õ\u0012*_Í-å<\fIÞí\u000fÇð§\u0000UóqÕ*£w\u0013\u001d1`»+ÇaØ\u0000xÉ÷ºÿ=¹\u0016ºo\u0005þ_¦L-æç±×õ\u000f=ÅoS!­\u0011&µæp\u0004µgLe~ý2V¡«{ÄçØ]¼\u0018ï\u0004IÎ¶ómùf\u000b]]ù\u0001pÂ »\u001föç¸òH·U\u0011sµLûÓ=*Ð'à4*\u0000ÏÅªJ¯PDj;-ÊØðPt××Åy(-É=ü^RóqÉÇ r!'Ì¥A5\u0016ÌNª\u001ao3·Ù5pø¸S!Ï\u0019ÆZq4³ø¯Èm­=îÚ.4ÈûÿÇ!XaO\n",
            "\"Ë§_Ì M;VÚ§àmMÀ\tD?\u0001ö~%ÔO\u001aAÆäùlUû\u0003ì?U¨·H¡Ñ#­\u001fÞ\u0017£#2·Y³ê¡wUÒ»14gÂV§²èÓ-;L®¢K\u0019Jo!ïv\u001b¡Þ\u0012oå¿v>\u0002I\u0015\tõg\u0007þÔc¤Á@µÜz´$OÕÀôü\u000fÆ\u0016bä¤4ùñ?[RÀ¼»Ò\fÙÐä?Uð\u0011.÷Jz\u000en>ÈðE\b×TÑ$jÌµ\u0002«s\\.`_¬êÄp 'k\u000b~ÕöOXüveUÃ(±+õUÛ?¨sÏ\"jx±0a\u0015\u0002Ì¡õ\u0010Èõ\u0011q1/t\u0010ïSØhgFÒ?~¼j\u0012àP\u0017öa\u001eAÛ¿0Í¿\u0000[×ÀÅ¦¡\u0001=\u0001KYÏ]½|\u001eõ3íoþ97¡v^lßþÃ¹µ\n",
            "X1ºV\u0019AÛ\tÛdØòú5Z\u0017äµq°Ð­-gã$è7òîZzÉn\u0012Ñ Ì½2(\u0003ZBÊ\tT\u00143)r¼\u001e,U3ë(~U[NÀl\u0005Ý\n",
            "E\n",
            "ïÌ%øb\n",
            "kª\u0001ý]RìæÑY4»\u0006V\u0014fÐ=á\u0003üÔÔ½áWFÂRÝe\u0000\u0010k\u0005vS¨±°\u0014\u0013@³Ýe£©éÙB5h:c\t\u0001µ#\u0001¦ddJXIqo\u000eNpá±ô(á\u001e¥Æo®èêÜ½\u0006¾Ãë\u000b\u001fà5(¡\u0015ö\u0016\u0000¤|ãÜQÈ«\u0016hy0<ÏyûÃOæ7!Ê·X\u0012ì-¼aóëWàRhð)]ý±q®zwg\u001fû7sH,õ\"\u0003c¥\u0000ú§Ñ¹!ôÓ>M\u0018Ç±ß\u0004<ÛÇ9\f\u0000ÿO\u001dw\u0010k3²ÖÒæ\u0006ÉÌl}í`ßÕ«\u0012\u001a®Ì¤<\u0019»Ä´E\u001e·ZV\u001fäâãk\fnháÜßªãi_ûB÷ðã´EÙ7Eó\tp±x*;®Ïµ3ãÓ\u0007\u0011ÓÞ¹\u001fel\u001d\n",
            "_°<¬+@6ò8kJ/ì\u0015Â·\n",
            "×\u0002s\u000eî¸7b\u0010E*ÁÚòs\u0003Êbß\f'·\u0014IÇ\u001e}kçF¨b\u0017\u001aK<\u0006²ÝÁR¡V\u001b[?V|Ûò\n",
            "¶TüAü¥²w\u0019zI\t5ëjðd°á·´² »Ðt\u001aðÉ\u000643\u001e1kkº\u001d2½\u000e\u0001Ü\u0013;îtZÉ\u0002©\u001fo\u0005\u000fG=ÂëG<ÿ&D¾]Æþª¨rùâÔ@#HÍ¯m|WÔpÊi¼½\u001b\u0014:\u000eÚë¹¿\u0003Zù}Á\býZ½Ð%\u0004H×ûý³íò¬Î¥®\u000e\u001cÆ\u001eØ\u001cÔÏ/Ö§`o¾®)\\£èp$[c#áb¡¹*öÝÌ­Zêf\f\n",
            "Î\u001fFÇ!üÏÝÜlP¿ÌYÔ\u0004ya\u000b½\u0005FÝ72\fä¥\u000fs¹ÿÁÚøÿAT<§¹¨®(#^\u0002cSñ5zÄ«$X/\fÛ¸\u001fî\n",
            "¡·\u0007ef/\\Ä­í&V&!ÞïØ$yMþ%­5ëvùÇ/vy°à²>\u00194Ùé\\ØíÝ,TÖùñ\u0003ãqPÛíÑX§hg=~Åüö;®\u001aÑd>åÂÖûå\u0005\u0019>qîD8XËìdHr{¿\b\u00169àÈÀ\u0018µH´è@¦#J÷Rù\u0001Ò.&\u001a=\u001f\"î\u0018÷Ão««}'¹j\u0001ø±6N\u0016TÄôèfµ\u001fÊDæä\u0007\u000e\u0010bøD¶íüíÇÌð­?%î²®\u0012\u0013ßrf¾y¶ÇCÌ¾_J°(êúÒÕ\u0016RL\u0016LÞ\fvêr»ÑzUëp¦\u001a o}xbkRÔ\u001aæZ\u001dûuhÓ\u0000õ\u0018Ì\"¯Æe[³\u0015ú\"Û¦\n",
            "¿¹}×\u0012½yå*OÉÝCàâ¥ÿOüõÎ0\u000fÀÏ\u0000âp_\u001bÊµðCßV4TÏ\u0015èÑ®\u0014Ý@UëLé\u0007ÿ»\u0014XñÈVMºdB;íÑo¤Ên\u0018\u0017Q\u0006ZQKÉí/55½ä`ü¾|Ë|Ô²\u0006øÁü¾ÿOÜ ÿûú§¿XcQ\u0014®äz_X±îËÉ|Æ\"´* 9Ï¢XÊ¹\u0010È¨#.NÝ¼vhB\u000bJÅñ=X2=\\\u0005\u0011/\u001eÛÇY0F\u000enó·¦{'\u0017\u001c\n",
            "+P÷'À\fJi©!\u000eËÚ\u000f¯ö¦@iöD¹\u0005\"ï\u0000CZ¯)Åà8[>\u0001¥Øù»àýr\n",
            "¸F\tÎHvHÑasûûaBÈðo©yô\u001c(÷TX\u0011ûÓ»u%ÈÔsôòÏÿæÇf{üùÕ\u001f-êk\u0017sìäîmo\u0017pû5Æ>ü`ò³|[£ï\"©Ù%\u0003@EWëW£k$ng_ï*j*&ÈúË÷ù³«¢`u¦¢=Âîÿ\u0019ÒÑ4\f\u0006Îi@c@0\u0018¡Ï\fÔÃ=þP\fi¯¿\u0004Y¾À\u001bïáÄÞ7\u001d\u000bË½ûÉ¥À¤Ø\bâWOzóÙ¯^ô\u0004Ýï~Ø4Fc¬ßþX)3KÿVVÆYÑñ\u0016j_ß\u0001ÓÏ½\u000fË{ðÖ\büÿ\u0003ìÉV-Ñ¯ãöA¾¨Ö\b\u0019Çåû6íÚWéØ!'W¼|(\u001fÞóz;T¨»Ãó§HóyZÍqkW«Ä\u0011ËJ¯Iú½g´cÈÞ,ëàö¯\u0006Q\u0003Ã÷\u0003Ü»ÛdFAj|})Õ>Ë\u0005YïbºäÉ÷\u001b\u0002áa²:\u000b\bæ=×m¡s×K+»ì\fP~ÿÄ@Dò¿>e\b,&ÊjÂ©Ô5ÎÖO{\u001f]ÿøáöÑïÿì}f\"6ÁCwfskÉÇ\u0002Æ&:ì©¢\u0017£ý¸òMÛÄD\u0015\u0001\u000e½} Ã}¼{Þº÷\u00192¤³Û°dñ\u000fÏï±?á.,eÎ¹Á5»ÿõWìÁ\u0010üü\b\u0010q_\u0018j.1Cpþ\t+ÝN\u001bÚ\u0011ù7+\u0013TàTm¨7y¸-\u0015yqþzì-Ï.Ç«SµsEÌ\u0000wÄË¬b4íYÊsmÔ^e>ÿÿ.M4µÑ\u001f§üâ;GùdÜ_Ê\t\u0006c\u0018\n",
            "º¾Wb\u000eQÞ¯\tÙ\fûCöTæ©\u0006]ýÀKlWý7ìT¢ÙQ'OÛMSÚò\fVð?Ï¤FÓ|R¹4j¤·sæ\u001fªaroó?p7\u0010ñ±î!m±¼µFªA¾¬\u0005Àm\u0006+~Å)ä÷þ?å\n",
            "$\u0014¶@(vØÓÃü`Ñª\u0007öîý«»7#½½®wìbýý3ÚÂç\u0000 g\u0002t¡\u001c¢ßÿqø\u001eû\u0010\u0018&Í ÓtLå\\\u0018G¿x ] \u0005ñt§¢½*NÖCN\u001fé3}¾?yÈ\u0015ùÅ¶î!\u0016µ0Âx~Ë´X\u0013\u0012HR¾Ä÷]õ7\fÍyî\u0011ÇÌfï2@Ê\\\u000ed´\u000bS=\u0012|ÿ(»Kù\u0011 'ìJÐÌ\u001bðfIMÇ;¯UNÐ¿\u0012ïi\u0016Û¬mÅ]ð}^4¬Eëáõw\u001c÷ZÎóCÍù´ÿ\u0006ïÆ»\u001f¡¡¦VÉ\\]\u001a¨Éx ª1Þ~ÈEÕ[\u0017[gúnÀq\u0004BýÕþçÍT\u0007í¦IH·}ö¶Ï«\u000e\n",
            "zl:p@;áAþÄ\u001e\u0001³3spjª£\u0017\u0006¾1\u0010ýæ?®nôw¾¢=I¼óÍkýpo\n",
            "*s#}F\u0004\u000ea&½\t\u0010»!zªI3\u001bIÈícRD\u000eq\n",
            "ïÒþx±ø>Ó\teW_\u0003`¸g¤\u001d¼3k9¿£æÞµÌGô\u0000jÛXô]\u00005ý\u001fh\u0002íÌ?%£1ÀÌÿL¹àG 7P®¿.Ð|\u0013Ôú.îC¿ü°Î£\u0017gÛÆ\u001c[i'ÄÒl¡áÚ/Ã \u0007\u000b¶°½·ÃgKbò\u0000ä7Üóôö¬\f¾0àg3\n",
            "¯Pà ¡óX¾&N<àÀÌ\u001b5,ØéüÌùZK,\tH@C3siO}¤~&AAÎBº{¦Ç¦¶Â\u0017»ti»0\u001c6²\u001a5\"·$°ë\u0003ÔSQ\u0011óð0ÀwÕ\"û\u0010BÆ)¼2«VèðìLo\u0010½e\u001f9.\u0007ÞÞYqÿÅAëìÈÆ\u00173ÂÞØÅ¾í\u001c3Ê lÏÌùÂÚîÁ/\u0013ó×7\u001bAþpÆêgðÿé<NªuýU\u0011±ò\u000eÕ­FËá[Þg\u0017ÂÆG6¬w\u0017µÍÉï9N¬i{Ï6ÚùÌÒ¶3Ë\n",
            "z4\u0014ö.V-ãÁ\u0011£\u0019t¨\u0017ö°4k\u0005W*~è,ó[8dÎ&¸UVòqU\u0013bÚ}\u0010echÆ0À§:\u0006hó%\u0003z¼1\u0006ØIXpÄ¨½ï\u0012ëâ\u001eb¬ÂÒÁÛ°g5{ë¿êLÊoa0\f£7Rû¡±]×nVð¬UÿÕ\u0010Tÿ\u001dR\b+Å&Ú!\u000bö\t£ÿE\u0000,x,DnüOøW7ÍÍ\u0004 \u001eª-»\u0000\u0011PGb¸Áä¼J{\u0013èyì]\u0012\u0005¿6){\u001fÖÏ\u0019;b\u0000Fq±n ¦Càö [PÙ²\u0016w¨øCQFö_êÃ²Î÷¹s(¼\u0006\u001eùðà¿~×Â|Ú!+\\{ï\u0005\u0004ôL6}\u001dÁ§aÝ\u0005þ-æwhýÉjú¦|×ü?õÑöu\"æ±HöQÔlÑkÉ\u001e\u0013IcÉBUÁS[FQ÷\u0011^E\u001f§DîGÙÑ(!ð\u0007ü\u001e5d\u001f,å×[­\u0007BÕñ\u0017Óµª\u0016Àè<4_\u0012ôO\u001b³Z:ù³$ÚüÔ¬=ðb¸õÞnJ¿¼\u0001ÙPíÓÏÝ¹8»£|ö}Kß¥;í\u001b±äªí K6\u001d\\+gy\fV³ãÚ!A5t9ó¹`K.~Å4q'Ú¤*î\u0015ãª¬É\u0006óTq9ëkUä\u0006ZµÝ´Û\u0006\u0018c¨ö×ÆßÈGýÿýj\u0017\"ÆÊæ{\u001fÌ^Xä\n",
            "ë1uÓæ3\u0018ÅtÎÕ\u0010` ûváö\u0007b­8í¹¦{öÁÊ\u0019¸ÐDÿ)®Iµ£ã^Oì³%\n",
            "ôSY<\u001d@(¦\u0012ùÚ6ä>eÑvÑ Oë¨âS­UKæÃõÄ æ\u000bQqA\u000eIºB\u0013~ªµ\u0016\u001dÃ \u0003n\u000f#nãÿ\u0012SÈ  /éùÀªÌ¹Î$`ôÛæþughñîðÚÿ¬KõÑJ\bÉ$z_¹®É?V\u0013pÉÛñ+¸é\u0001íÍCÓª1Ô_>\u001fz_ë;q.Êõó<BÕï_ìü¨põÎ! \b\u001e©\u001b½íß³¶cÀ>«¥ýµQ\u0012±M,Ù\n",
            ";ÛÓ½ÈÛ\b;Ò\u000eziS²LCEn\n",
            "©\u0012²ÜX#¨ãç\u0011n\u001e«ù§qè\u001f¤yC\u0004³§³\n",
            "\n",
            "\u000fõ1ëº]\u0015\u001a8E¡ýüûa\u001cÞ\u0018\u001a\u001f\"+\u0002KU¢Çy\u001fÔP\u0018Pm¸\u0010\u0017´&'J+ãï2¯²éÔü\u000f¶ð\n",
            "ó'\u0013SÅÝÊµx*ì\f<\u0006²Á\b\u001d}ånÄ\u0005Èÿönr\u000fpòëQ~iC\u0017\u000eí\u001e¶üE2í\tÔ}Fj:}UsîUÖ]\u001bl{Nl ÙRO\u0017_0à((0ÁÜf\u0006±M£\u0007ö#¯DvxV#\u001e:?ó¬Y§4\u001b2Ð1m¦ú\u0016×j\u0013ßRQ*\u0001å=ª\u0018~À÷<Þ3rã\u001cEÙ´W2­\u0015ãÜ×\u0019×ÁZ×m¶¯ÞG1\"¿Äë8\u001d\u001c\n",
            "*]êq\u0017àóüÚâtÑ¼0\u001cÓè[Êé<³Ù©²b\u0013\f©3&óìDÅÊ¢~qý©ÿïQñ.`§3|üH¨±sIYÞ\u001aÐÞ\u0012x\u0017AàïÚqÂÂ_à\u0006\u0011÷Ò×TVÐ×·Q&ªã35äÀí8×$-C÷¯¥ÐÑ£ÍÖßÅñí];t»y§ð6®Ø\f¶è)\u0012ÙØÈMñ¢`\\\u000e¶¶#Í0Ø'é\u00030\u0015XæÜ«?ÖÕðúIdm·p\tgðdélxxOñAiE3]\u0013Ðh^G>¨t¢þ$\u0011g¶õJÎo\\{ÐUi\u0007¤Ø-ä¿e\u001d\u001eÝ\u001dãI!Xn#¦ÃÚ\tJûºOa\u0010\u000f aþA£¸æ(\f÷2ZMn\u001dâ,ÄôHcÂßÒIÜ¹l4Áõíñ½õ\u0017ÔÔú~½ª?!·Ë à\u001ag\u0013\u0014TbjW\u001eùì×\u0003gè¨iÝË- ¿±Ã\u001d\u000e_\u0000\u001dvÜç\u00050B\u0001æÚË\u001d}\u0001íNÁó©\u0014AQ¿%Ó,þ®ßÅ%qy¬ýñ\u0003ë\u0012ðàÏxöô%±ëö!Îþ\u001e\u001c\u0001\u0019nÏsÍ:{9KÇ\u0002A:ÈK­Æ\u001c0èëÿÙ²½ß¿ kÑ¢ô;°£÷(±gï0 >éoUÍ\n",
            "Y=\b}S¨lwyôÄ\u0004^½èëgÍõJ¬ÎÁ;ôâ2þwé%l»ÝÈÀ·Ö¹W~ìHþláÐo¨+r¦+\u0015ÔW\u000béÏð¼éâ\u000bïL[m}Âêã¯$qw\f&¬Æ=,¶güw/¾·$'A;ü ²,±°ú¨wÖ\n",
            "ØhÔÙåu\u0014Úgÿ3+÷ñ¥Ñ\n",
            "Ò©±*\u0011üâä¢dc¸f\u0006\n",
            "\u0002ü#KÔecGg\u0018D=\u0017eÛ8<áD\u000f\u0017ýä\u0000Ù\u0017^<\u000fg¢\u0011¤Îõ[ÉÖ\u0010Z\u0013óó\u001eâÄ_¡·¸;0\u001aä¦^F!\u000f\u0007\"í.\u0005\u0004gíj5=\u000bÀHSÎÌÄ^c\u0012\fDß\u001a\u001f;¸ì~Ä]MsÐã®ÒáAæ8NA\"\"Àúðx\u0005VÏÚ@Ó3/¤iL\u001b×»½NÞwU3\u0002IÎäE\u0013\u0016\u0003;í:áRSh#dFÏï&(áQ\u0017¾¤z\u00052áòÂFõwPQ6ÉÁ?ßì4\u0005'\\\u0001p01\u001cFÁÓÀ·ðæ£øÍÈXâí{Ój¬\u001e9\u0001µÑ\f~ªã¼ONÞ%\u0000S\u001cíä¤éA;Q©q\u001bãé|.\"\bÍø¸â(N'ÅÆ.±\u0010·±u=\u0003Ê\u0002ÜæÏKd\u001bº§P¿^;\u00127\u0003\u001eÐ¥p°\u0006?½³\bRíUQNËñtA\u0000ÇcÙ\u000fN.}É8\u0001ý®ä\b\u000f\u001eÌÈº|R\u0012\u0006PõhÚy)ò¬]M\b¦sÊ\u001c\u001d½\u001f0÷_ÏáByµ6Qx\u0013àu¾Þ²k¶À\u0006dë·¬\u001aHÿ&à]W¾X_:z\u0012iÊk\u0019\u000bí?ÈõÓ\u001aGM­®\n",
            "Rc#@\u0007¸e:öº_ûzÆ»ìÁË]Í1ôV¯ZÉ\u0014LçJ\u001f\u0007ÑP%R\u0007¸Ze^}áf­\u001aoÞü+H­¹7\u0006 nØ½\u0015\u0015ß.«LßçIé«£å\u0017¦nÝÙT.Ïæ\u0015j¸9t£\u0004-¾u¦\u0005r$-\u000bMàHöÊ\u001c\u001c7­ÝÁ\u0016ÄNøjw-.rV!Êj\u0002MöØkHÁBõÒë@ëzl8\u001a\u0000QM\u001cð$\u0000êÎ_ËÞ«ôï\u00150\u0013ô\u0006â±dLØö0®Ô²'E´\u001c¬¦/¶²CùGÇÑD,\"T ÞIexBDX9\u0004Ì\u0017·Ã\u0001ÎÜÝÛÉl:\u0003rÈmjë:\"}Nbàû\u0014\u0015§\\±È>®<~«o0jµÛ}\u0012\u000bû¢tc\"\u0017ÑyÄ@üaý¾¡QW\u0002Îäjâ\u0014\u001a\u0013N ô¡?èc9>Y\u000e\u0002òÓoóñkæQ/\u0000Û>¢¦Ì~\u0018käDÆ-^Cêàé8\u0014|\b}p\u001b\u0013!ú\u001bl¬ª%¼.î°/ÆÑeJú\u0001!\\µ1\u000b'D+£[xæò=¼'\u000frt¿l,ø`S\u0015*\u0000\u001aq\u00109\u001fãU,ÒÞG¡Ã5ÆHÕ\u0001\u0015¥ì:\u0001?\u001e\u00036Ð-îÏfDÿ]47'û4\u0005wu\u000e½[©:½\\wÜ¶VÃ4Ç6ÂW\u0017pâaÑ,x\u001d±ä\u0019ìÝ¢¹ÂUÖ\n",
            " ±A3=ª>\u0005ð½xÿmó\u001a|ü,Z WÌ£D<¼bìïúþ,ß!6©zçpr³Ûsµû\u0002É5=\u001c»\u001dK´`óöjÁ+%+eõºÁXs\u000e&d+é;\u0004\fË£Å2$¾uU\u001d\u0011ûÐ2P\\ÂÒKÂ\u001d2è»ÈNo\\\\KTRð¯5¹%\u0015 ÀH\u0016Ñ^i\u0005êI\u0012\u001dª?ß\u0002wº\u0010,\u0005\u0016,0\u0000l_9t8jWÿ×vôºl5&&ß\u001f1ÃiÝí±Hæn«N\u0011\u0000c#\u0012_NM\u0005KÍ¹|\u0001°ç`¢\u000b^nåP\u0001\u001dl£òEò[\u001ddØÑXñæ=o\u000bx|<XåmÍ1d«x\u0018oòv«8^Æ±hTÞrÅ\u001c+¹>×÷d²ùlGIn7²kN_¸²¿\u0019{%ÅD\u0019ËCYdqWå8\u0018\u0014I°e0 çª ýü\u001cÑÀ\u0012Si­£hEêÇP\u0010\u001eiH¶ûJª)ÐÁqÏ¸zPetoC \u0006X\u0017Ê¦pÒ¤\u0019\u0010\tóÌ !r-\u0005<ir«$¤^k}Âey·ï±e\u0019Z\u0001Ç\n",
            "läºDcìÃFA§f\b\ti¯rÈ*!#6i\u001bo\u0014\u0011fDã2ê\u0002ç2\u0005|7á\u0014\u0010\n",
            "e!\u0007ZSÚ÷ÞE×=×\f¶9IW³\n",
            "bñ©&`ý\u000f\u0010ÍLØJz×¤ü\u0000\u0000>¨Ô¸~WóHÇöÊ\u000f;Á»ô<:ÿoµ~ÚøMWæÖ²+\u0010\u0000}K\b:øèm\u0001½¨\u0016\u0004¹L\u0007|]¹bÍK¦ÅV¡¨Á\bÅ\n",
            "mF1>UóïÌÛÙ(?î5ßèê#%ô×èHm\u000fëF¾²z¾¬LR=\\\u0006\u0010ÖnÌLï*£\tÆ_û1îgt4\u0011kk­E\u000fq,xI\u001d9¨Ó±ºl¦¸\u001e}ï&\u0000T1äÛ»Qt\u00044±zÄ.ÕCõOñ¥Î\u0005\u0014\u0011ä^rt#§8>½Å h;\u001a³-\n",
            "îÖ\u0019¹zF\u0000C¼\\xÊÊ>ÍB¾7#\u0019[&á?(3Æß\u001döÚZY\u0019\u0006\"I<à¾uC^Å8Y=\u0018ñØ8)JS\u0010ä4[/\b4ÈsHvm\u001bi5;V¹)këÄ~ ;¡ÌË6ËÿyÃR[ªöÏýlMµUe\\ÃÄg4×\u0000\n",
            "Z)$Ä´\u001f$1\\\u0006 t\u0001-Öãd¯F¹ÙGQ´!¨¿ÿ¸î\n",
            "\u000bðá9Vÿ®Ü\tô§g YÐê+\fHRxN<K¬ZÌ\u001b:\u0011\u000f%d~ç¦ÌØeTÃX³°ls\u0000=®qq²Á89|Åßê]\u001f\u0012w~ªê$f\n",
            "H÷>:Å?_\\ñ/\u000faG\u0001$%D\u0011T%)ÕþqB¤¶1¼ËìÆùXÚ9pF\u0004KM`3¹\u0012\u001a7dDyôÜ(iê\n",
            "\u0011v¶7ëÑI~áÚ¯ÑtJ*¾ßürÞ~Þmpí»/%Á\t8$¾Ëæ\u001bxÞIÇL\u000fg\u0018\n",
            "Ñ/(å\u0014\n",
            "\u001eìí\u001fw\u001f\\.Ë*|c°H$Ï¼ûóÒ45û¾&ê|Ïµ_ß@\u0000¢Õ«9îHgn\u0016Û[îu¯Kè½5íS\u0017o0·2\u0019#rá\u0014q¶¼´®sOOç×ç\"ãV§O\u0016â\u0016ð¶\u001fq|À#~!Äv2ù³(äU^à£© vo%àmê\u000eàÚ¥^ñ«æ´\u0007\u0004øc\u0000\n",
            "Ëª\u000b9\f3[»(¥É eÅÓz\u0014e\u0002\u0002¸\u001a²¨Ø!á\u0015¢_ÈZüÈ/M-ÁÿöHp¹8<;¼¢=½-åuï×rW2\u0005O|IuKÜÞ5²4ÛØ¾õf/©8ÕÝeAhÅ6/£Vð&ÉÙ*¥`%0þ\u0011æ×«Ä¥í\u0015¸Ò\u0019Üùo´\u001aKXEÓ$G$õtÓ²«ÿWÊt~¤\u0000aªÿÀÿÿ\u0000ÎÑ5¥t´ÓáQÿI«M;.ncÉ¾{1kk\u00008\u0005)ÿp¦¥2\u0000W)DÚhÿÖ\u0000¥ÿÿ4ÿÿÿqÈ\u0018¥ÿ\u0000ÃÓÿ\u0000¥\u0010\u0000\u0000\u0000\u0000\u0004\u0004/ÿ\u0000\u0007\u0000\u0000\u0000\u0000\u0000\u0000\u0000\u0000\u0000\u0000\u0000\u0000\u0000\u0000\u0000\u0000\u0000\u0000\u0000\u000bz*oþ\u0000\u0000\u0000\u0000\u0000\u0001\u0000\u0000\u0011<\u0000\u0000\u0000\u0000\u0000\u0000\u0000\u0000\u0000\u0000\u0000\u0000\u0000\u0000\u0000à\u0000\u0000\u0000\u0000\u0000\u0000\u0000\u0000\u0000\u0000\u0000\u0000\u0000\u0000\u0000\u0000\u0000\u0000\u0000\u0000\u0000\u0000\u0000\u0000\n",
            "Decrypted Message: Confidential Data\n"
          ]
        }
      ]
    }
  ]
}